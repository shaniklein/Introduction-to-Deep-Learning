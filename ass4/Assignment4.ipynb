{
 "cells": [
  {
   "cell_type": "markdown",
   "metadata": {
    "id": "MV-Baq834KT6"
   },
   "source": [
    "# Assignment 4: Language Processing with RNN-Based Autoencoders\n",
    "\n",
    "**Deadline**: Sunday, June 15th, by 9pm.\n",
    "\n",
    "\n",
    "**Submission**: Submit a PDF export of the completed notebook as well as the ipynb file. \n",
    "\n",
    "In this assignement, we will practice the application of deep learning to natural language processing.\n",
    "We will be working with a subset of Reuters news headlines that are collected over 15 months,\n",
    "covering all of 2019, plus a few months in 2018 and in a few months of this year.\n",
    "\n",
    "In particular, we will be building an **autoencoder** of news headlines. The idea is similar\n",
    "to the kind of image autoencoder we built in lecture: we will have an **encoder** that\n",
    "maps a news headline to a vector embedding, and then a **decoder** that reconstructs\n",
    "the news headline. Both our encoder and decoder networks will be Recurrent Neural Networks,\n",
    "so that you have a chance to practice building\n",
    "\n",
    "- a neural network that takes a sequence as an input\n",
    "- a neural network that generates a sequence as an output\n",
    "\n",
    "This assignment is organized as follows:\n",
    "\n",
    "- Question 1. Exploring the data\n",
    "- Question 2. Building the autoencoder\n",
    "- Question 3. Training the autoencoder using *data augmentation*\n",
    "- Question 4. Analyzing the embeddings (interpolating between headlines)\n",
    "\n",
    "Furthermore, we'll be introducing the idea of **data augmentation** for improving of\n",
    "the robustness of the autoencoder, as proposed by Shen et al [1] in ICML 2020.\n",
    "\n",
    "[1] Shen, Tianxiao, Jonas Mueller, Regina Barzilay, and Tommi Jaakkola. \"Educating text autoencoders: Latent representation guidance via denoising.\" In International Conference on Machine Learning, pp. 8719-8729. PMLR, 2020."
   ]
  },
  {
   "cell_type": "code",
   "execution_count": 186,
   "metadata": {
    "id": "_CobqQza4KUC"
   },
   "outputs": [],
   "source": [
    "import torch\n",
    "import torch.nn as nn\n",
    "import torch.nn.functional as F\n",
    "import torch.optim as optim\n",
    "\n",
    "import matplotlib.pyplot as plt\n",
    "import numpy as np\n",
    "import random"
   ]
  },
  {
   "cell_type": "code",
   "execution_count": 187,
   "metadata": {
    "id": "zk53CoRuBkLR"
   },
   "outputs": [],
   "source": [
    "# helper class to print nice outputs\n",
    "class txt:\n",
    "   BOLD = '\\033[1m'\n",
    "   UNDERLINE = '\\033[4m'\n",
    "   END = '\\033[0m'\n",
    "\n",
    "def make_bold(text):\n",
    "    return txt.BOLD+ text + txt.END\n",
    "\n",
    "def make_underline(text):\n",
    "    return txt.UNDERLINE+ text + txt.END"
   ]
  },
  {
   "cell_type": "markdown",
   "metadata": {
    "id": "cSz5FCNh4KUD"
   },
   "source": [
    "## Question 1. Data (20 %)\n",
    "\n",
    "Download the files `reuters_train.txt` and `reuters_valid.txt`, and upload them to Google Drive.\n",
    "\n",
    "Then, mount Google Drive from your Google Colab notebook:"
   ]
  },
  {
   "cell_type": "code",
   "execution_count": 188,
   "metadata": {
    "colab": {
     "base_uri": "https://localhost:8080/"
    },
    "id": "fnABNyg94KUE",
    "outputId": "289ceaf6-6997-42e2-e707-741e8f24ad98"
   },
   "outputs": [
    {
     "name": "stdout",
     "output_type": "stream",
     "text": [
      "Drive already mounted at /content/gdrive; to attempt to forcibly remount, call drive.mount(\"/content/gdrive\", force_remount=True).\n"
     ]
    }
   ],
   "source": [
    "from google.colab import drive\n",
    "drive.mount('/content/gdrive')\n",
    "train_path = '/content/gdrive/My Drive/Intro_to_Deep_Learning/assignment4/reuters_train.txt' # Update me\n",
    "valid_path = '/content/gdrive/My Drive/Intro_to_Deep_Learning/assignment4/reuters_valid.txt' # Update me"
   ]
  },
  {
   "cell_type": "markdown",
   "metadata": {
    "id": "hdkp4HLW4KUE"
   },
   "source": [
    "As we did in some of our examples (e.g., training transformers on IMDB reviews) will be using PyTorch's `torchtext` utilities to help us load, process,\n",
    "and batch the data. We'll be using a `TabularDataset` to load our data, which works well on structured\n",
    "CSV data with fixed columns (e.g. a column for the sequence, a column for the label). Our tabular dataset\n",
    "is even simpler: we have no labels, just some text. So, we are treating our data as a table with one field\n",
    "representing our sequence."
   ]
  },
  {
   "cell_type": "code",
   "execution_count": 189,
   "metadata": {
    "id": "I2PjMSho4KUF"
   },
   "outputs": [],
   "source": [
    "import torchtext.legacy.data as data\n",
    "\n",
    "# Tokenization function to separate a headline into words\n",
    "def tokenize_headline(headline):\n",
    "    \"\"\"Returns the sequence of words in the string headline. We also\n",
    "    prepend the \"<bos>\" or beginning-of-string token, and append the\n",
    "    \"<eos>\" or end-of-string token to the headline.\n",
    "    \"\"\"\n",
    "    return (\"<bos> \" + headline + \" <eos>\").split()\n",
    "\n",
    "# Data field (column) representing our *text*.\n",
    "text_field = data.Field(\n",
    "    sequential=True,            # this field consists of a sequence\n",
    "    tokenize=tokenize_headline, # how to split sequences into words\n",
    "    include_lengths=True,       # to track the length of sequences, for batching\n",
    "    batch_first=True,           # similar to batch_first=True used in nn.RNN demonstrated in lecture\n",
    "    use_vocab=True)             # to turn each character into an integer index\n",
    "train_data = data.TabularDataset(\n",
    "    path=train_path,                # data file path\n",
    "    format=\"tsv\",                   # fields are separated by a tab\n",
    "    fields=[('title', text_field)]) # list of fields (we have only one)"
   ]
  },
  {
   "cell_type": "markdown",
   "metadata": {
    "id": "7TNlqCRM4KUF"
   },
   "source": [
    "### Part (a) -- 5%\n",
    "\n",
    "Draw histograms of the number of words per headline in our training set.\n",
    "Excluding the `<bos>` and `<eos>` tags in your computation.\n",
    "Explain why we would be interested in such histograms."
   ]
  },
  {
   "cell_type": "code",
   "execution_count": 190,
   "metadata": {
    "colab": {
     "base_uri": "https://localhost:8080/",
     "height": 295
    },
    "id": "mBPd0ezl4KUG",
    "outputId": "8c5cb419-e8ab-4b99-b9d3-2ba3452ae119"
   },
   "outputs": [
    {
     "data": {
      "image/png": "[encoded data removed]",
      "text/plain": [
       "<Figure size 432x288 with 1 Axes>"
      ]
     },
     "metadata": {
      "needs_background": "light",
      "tags": []
     },
     "output_type": "display_data"
    }
   ],
   "source": [
    "from collections import Counter\n",
    "\n",
    "words_per_example=[(len(example.title)-2) for  example in train_data]\n",
    "plt.hist(words_per_example, bins=max(words_per_example)-1)\n",
    "plt.title(\"histogram of number of word per example\")\n",
    "plt.xlabel('number of words per example')\n",
    "plt.show()\n"
   ]
  },
  {
   "cell_type": "markdown",
   "metadata": {
    "id": "CWnes5SVRwxl"
   },
   "source": [
    "**Write your explanation here:**\n",
    "\n",
    "We would like to get same distributionin the inference phase. It is important to see that most headline have between 5 to 20 words. We would expect that the new headline we will get will be also with 5-20 words."
   ]
  },
  {
   "cell_type": "markdown",
   "metadata": {
    "id": "gm3ysTzh4KUG"
   },
   "source": [
    "### Part (b) -- 5%\n",
    "\n",
    "How many distinct words appear in the training data?\n",
    "Exclude the `<bos>` and `<eos>` tags in your computation."
   ]
  },
  {
   "cell_type": "code",
   "execution_count": 191,
   "metadata": {
    "colab": {
     "base_uri": "https://localhost:8080/"
    },
    "id": "2x5wf7h14KUG",
    "outputId": "006df3a5-59b3-45cb-8a26-f928ca445015"
   },
   "outputs": [
    {
     "name": "stdout",
     "output_type": "stream",
     "text": [
      "\u001b[4mnumber of distinct words in training data:\u001b[0m 51298\n"
     ]
    }
   ],
   "source": [
    "all_words=[]\n",
    "for  example in train_data:\n",
    "  all_words+=(example.title)\n",
    "\n",
    "print(make_underline(\"number of distinct words in training data:\"),len(set(all_words))-2)"
   ]
  },
  {
   "cell_type": "markdown",
   "metadata": {
    "id": "e5lgEwiM4KUH"
   },
   "source": [
    "### Part (c) -- 5%\n",
    "\n",
    "The distribution of *words* will have a long tail, meaning that there are some words\n",
    "that will appear very often, and many words that will appear infrequently. How many words\n",
    "appear exactly once in the training set? Exactly twice?\n",
    "Print these numbers below"
   ]
  },
  {
   "cell_type": "code",
   "execution_count": 192,
   "metadata": {
    "colab": {
     "base_uri": "https://localhost:8080/"
    },
    "id": "RpkUDVoC4KUH",
    "outputId": "cda0be11-db72-459a-e0ae-709cce8662bc"
   },
   "outputs": [
    {
     "name": "stdout",
     "output_type": "stream",
     "text": [
      "\u001b[4mnumber of words with 1 occurrence:\u001b[0m 19854\n",
      "\u001b[4mnumber of words with 2 occurrences:\u001b[0m 7193\n"
     ]
    }
   ],
   "source": [
    "# Report your values here. Make sure that you report the actual values,\n",
    "# and not just the code used to get those values\n",
    "c_words=Counter(all_words)\n",
    "print(make_underline(\"number of words with 1 occurrence:\"),len([word for word, count in c_words.items() if count==1]))\n",
    "print(make_underline(\"number of words with 2 occurrences:\"),len([word for word, count in c_words.items() if count==2]))"
   ]
  },
  {
   "cell_type": "markdown",
   "metadata": {
    "id": "K3RKPwdI4KUI"
   },
   "source": [
    "### Part (d) -- 5%\n",
    "We will replace the infrequent\n",
    "words with an `<unk>` tag, instead of learning embeddings for these rare words. `torchtext` also provides us with the `<pad>` tag used for padding short sequences for batching.\n",
    "We will thus only model the top 9995 words in the training set, excluding the tags\n",
    "`<bos>`, `<eos>`, `<unk>`, and `<pad>`.\n",
    "\n",
    "What percentage of total word count(whole dataset) will be supported? Alternatively, what percentage\n",
    "of total word count(whole dataset) in the training set will be set to the `<unk>` tag?"
   ]
  },
  {
   "cell_type": "code",
   "execution_count": 193,
   "metadata": {
    "colab": {
     "base_uri": "https://localhost:8080/"
    },
    "id": "Cva5DC_64KUI",
    "outputId": "fee171ff-1c84-4ae2-b24f-0824962fb9a0"
   },
   "outputs": [
    {
     "name": "stdout",
     "output_type": "stream",
     "text": [
      "\u001b[4mpersentege of total supported word count\u001b[0m 93.97857393100142 %\n",
      "\u001b[4mpersentege of total supported word count\u001b[0m 6.021426068998581 %\n"
     ]
    }
   ],
   "source": [
    "# Report your values here. Make sure that you report the actual values,\n",
    "# and not just the code used to get those values\n",
    "most_common_words=[count for word,count in c_words.most_common(9997)[2:]]\n",
    "all_words=[count for word,count in c_words.most_common()[2:]]\n",
    "p_supported=sum(most_common_words)/sum(all_words)\n",
    "print(make_underline(\"persentege of total supported word count\"), p_supported*100,\"%\")\n",
    "print(make_underline(\"persentege of total supported word count\"), (1-p_supported)*100 ,\"%\")"
   ]
  },
  {
   "cell_type": "markdown",
   "metadata": {
    "id": "SBV8CTyk4KUJ"
   },
   "source": [
    "The `torchtext` package will help us keep track of our list of unique words, known\n",
    "as a **vocabulary**. A vocabulary also assigns a unique integer index to each word."
   ]
  },
  {
   "cell_type": "code",
   "execution_count": 194,
   "metadata": {
    "colab": {
     "base_uri": "https://localhost:8080/"
    },
    "id": "GRLFF8j14KUJ",
    "outputId": "7d130304-b338-44dd-cc9d-4c52c3da53cb"
   },
   "outputs": [
    {
     "name": "stdout",
     "output_type": "stream",
     "text": [
      "0\n",
      "on\n",
      "<unk>\n",
      "<pad>\n"
     ]
    }
   ],
   "source": [
    "# Build the vocabulary based on the training data. The vocabulary\n",
    "# can have at most 9997 words (9995 words + the <bos> and <eos> token)\n",
    "text_field.build_vocab(train_data, max_size=9997)\n",
    "\n",
    "# This vocabulary object will be helpful for us\n",
    "vocab = text_field.vocab\n",
    "print(vocab.stoi[\"hello\"]) # for instances, we can convert from string to (unique) index\n",
    "print(vocab.itos[10])      # ... and from word index to string\n",
    "\n",
    "# The size of our vocabulary  \n",
    "vocab_size = len(text_field.vocab.stoi) \n",
    "\n",
    "# Here are the two tokens that torchtext adds for us:\n",
    "print(vocab.itos[0]) # <unk> represents an unknown word not in our vocabulary\n",
    "print(vocab.itos[1]) # <pad> will be used to pad short sequences for batching   "
   ]
  },
  {
   "cell_type": "markdown",
   "metadata": {
    "id": "bnoMpzC14KUK"
   },
   "source": [
    "## Question 2. Text Autoencoder (40%)\n",
    "\n",
    "Building a text autoencoder is a little more complicated than an image autoencoder like we did in class. So\n",
    "we will need to thoroughly understand the model that we want to build before actually building it. Note that the best and fastest way to complete this assignment is to spend time upfront understanding the architecture. The explanations are quite dense, but it is important to understand the operation of this model. The rationale here is similar in nature to the `seq2seq` RNN model we discussed in class, only we are dealing with unsupervised learning here rather than machine translation. \n",
    "\n",
    "# Architecture description\n",
    "Here is a diagram showing our desired architecture:\n",
    "\n",
    "<img src='https://drive.google.com/uc?id=1UaXAYQvmFbBcuSBQb7ozjSliuVn7bP1Q'>\n",
    "\n",
    "There are two main components to the model: the **encoder** and the **decoder**.\n",
    "As always with neural networks, we'll first describe how to make\n",
    "**predictions** with of these components. Let's get started:\n",
    "\n",
    "The **encoder** will take a sequence of words (a headline) as *input*, and produce an\n",
    "embedding (a vector) that represents the entire headline. In the diagram above,\n",
    "the vector ${\\bf h}^{(7)}$ is the vector embedding containing information about \n",
    "the entire headline.  This portion is very similar\n",
    "to the sentiment analysis RNN that we discussed in lecture (but without the fully-connected\n",
    "layer that makes a prediction).\n",
    "\n",
    "The **decoder** will take an embedding (in the diagram, the vector ${\\bf h}^{(7)}$) as input,\n",
    "and uses a separate RNN to **generate a sequence of words**. To generate a sequence of words,\n",
    "the decoder needs to do the following:\n",
    "\n",
    "\n",
    "1.   Determine the previous word that was generated. This previous word will act as ${\\bf x}^{(t)}$\n",
    "   to our RNN, and will be used to update the hidden state ${\\bf m}^{(t)}$. Since each of our\n",
    "   sequences begin with the `<bos>` token, we'll set ${\\bf x}^{(1)}$ to be the `<bos>` token.\n",
    "2.   Compute the updates to the hidden state ${\\bf m}^{(t)}$ based on the previous hidden state\n",
    "   ${\\bf m}^{(t-1)}$ and ${\\bf x}^{(t)}$. Intuitively, this hidden state vector ${\\bf m}^{(t)}$\n",
    "   is a representation of *all the words we still need to generate*.\n",
    "3. We'll use a fully-connected layer to take a hidden state ${\\bf m}^{(t)}$, and determine\n",
    "   *what the next word should be*. This fully-connected layer solves a *classification problem*,\n",
    "   since we are trying to choose a word out of $K=$ `vocab_size` distinct words. As in a classification\n",
    "   problem, the fully-connected neural network will compute a *probability distribution* over\n",
    "   these `vocab_size` words. In the diagram, we are using ${\\bf z}^{(t)}$ to represent the logits,\n",
    "   or the pre-softmax activation values representing the probability distribution.\n",
    "4. We will need to *sample* an actual word from this probability distribution ${\\bf z}^{(t)}$.\n",
    "   We can do this in a number of ways, which we'll discuss in question 3. For now, you can \n",
    "   imagine your favourite way of picking a word given a distribution over words.\n",
    "5. This word we choose will become the next input ${\\bf x}^{(t+1)}$ to our RNN, which is used\n",
    "   to update our hidden state ${\\bf m}^{(t+1)}$, i.e., to determine what are the remaining\n",
    "   words to be generated.\n",
    "\n",
    "We can repeat this process until we see an `<eos>` token generated, or until the generated\n",
    "sequence becomes too long.\n",
    "\n",
    "# Training the architecture\n",
    "While our autoencoder produces a sequence, computing the loss by comparing the complete generated sequence to the ground truth (the encoder input) gives rise to multiple challanges. One is that the generated\n",
    "sequence might be longer or shorter than the actual sequence, meaning that there may\n",
    "be more/fewer ${\\bf z}^{(t)}$s than ground-truth words. Another more insidious issue\n",
    "is that the **gradients will become very high-variance and unstable**, because\n",
    "**early mistakes will easily throw the model off-track**. Early in training,\n",
    "our model is unlikely to produce the right answer in step $t=1$, so the gradients\n",
    "we obtain based on the other time steps will not be very useful.\n",
    "\n",
    "At this point, you might have some ideas about \"hacks\" we can use to make training\n",
    "work. Fortunately, there is one very well-established solution called\n",
    "**teacher forcing** which we can use for training:\n",
    "instead of *sampling* the next word based on ${\\bf z}^{(t)}$, we will forget sampling,\n",
    "and use the **ground truth** ${\\bf x}^{(t)}$ as the input in the next step.\n",
    "\n",
    "Here is a diagram showing how we can use **teacher forcing** to train our model:\n",
    " \n",
    "<img src='https://drive.google.com/uc?id=1NXlimWaCviDfP8DHlIzyQR1Ie7sxfPuY'>\n",
    "\n",
    "We will use the RNN generator to compute the logits\n",
    "${\\bf z}^{(1)},{\\bf z}^{(2)},  \\cdots {\\bf z}^{(T)}$. These distributions\n",
    "can be compared to the ground-truth words using the cross-entropy loss.\n",
    "The loss function for this model will be the sum of the losses across each $t \\in \\{1,\\ldots,T\\}$.\n",
    "\n",
    "We'll train the encoder and decoder model simultaneously. There are several components\n",
    "to our model that contain tunable weights:\n",
    "\n",
    "- The word embedding that maps a word to a vector representation.\n",
    "  In theory, we could use GloVe embeddings, as we did in class. In this assignment we will not do that, but learn the word embedding from data.\n",
    "  The word embedding component is represented with blue arrows in the diagram.\n",
    "- The encoder RNN (which will use GRUs) that computes the\n",
    "  embedding over the entire headline. The encoder RNN \n",
    "  is represented with black arrows in the diagram.\n",
    "- The decoder RNN (which will also use GRUs) that computes\n",
    "  hidden states, which are vectors representing what words are to be generated.\n",
    "  The decoder RNN is represented with gray arrows in the diagram.\n",
    "- The **projection MLP** (a fully-connected layer) that computes\n",
    "  a distribution over the next word to generate, given a decoder RNN hidden\n",
    "  state. The projection is represented with green arrows \n"
   ]
  },
  {
   "cell_type": "markdown",
   "metadata": {
    "id": "Dk9WDEC90ScA"
   },
   "source": [
    "\n",
    "## Part (a) -- 20%\n",
    "\n",
    "Complete the code for the AutoEncoder class below by:\n",
    "\n",
    "1. Filling in the missing numbers in the `__init__` method using\n",
    "   the parameters `vocab_size`, `emb_size`, and `hidden_size`.  \n",
    "2. Complete the `forward` method, which uses teacher forcing\n",
    "   and computes the logits ${\\bf z}^{(t)}$ of the reconstruction of\n",
    "   the sequence. \n",
    "\n",
    "You should first try to understand the `encode` and `decode` methods,\n",
    "which are written for you. The `encode` method bears much similarity to the\n",
    "RNN we wrote in class for sentiment analysis.  The `decode` method is\n",
    "a bit more challenging. You might want to scroll down to the\n",
    "`sample_sequence` function to see how this function will be called.\n",
    "\n",
    "You can (but don't have to) use the `encode` and `decode` method in\n",
    "your `forward` method. In either case, be careful of the input\n",
    "that you feed into ether `decode` or to `self.decoder_rnn`.\n",
    "Refer to the teacher-forcing diagram.\n",
    "**bold text** Notice that batch_first is set to True, understand how deal with it."
   ]
  },
  {
   "cell_type": "code",
   "execution_count": 195,
   "metadata": {
    "id": "ey4tslhD4KUO"
   },
   "outputs": [],
   "source": [
    "class AutoEncoder(nn.Module):\n",
    "    def __init__(self, vocab_size, emb_size, hidden_size):\n",
    "        \"\"\"\n",
    "        A text autoencoder. The parameters \n",
    "            - vocab_size: number of unique words/tokens in the vocabulary\n",
    "            - emb_size: size of the word embeddings $x^{(t)}$\n",
    "            - hidden_size: size of the hidden states in both the\n",
    "                           encoder RNN ($h^{(t)}$) and the\n",
    "                           decoder RNN ($m^{(t)}$)\n",
    "        \"\"\"\n",
    "        super().__init__()\n",
    "        self.embed = nn.Embedding(num_embeddings=vocab_size, # TODO\n",
    "                                  embedding_dim=emb_size)  # TODO\n",
    "        self.encoder_rnn = nn.GRU(input_size=emb_size, #TODO\n",
    "                                  hidden_size=hidden_size, #TODO\n",
    "                                  batch_first=True)\n",
    "        self.decoder_rnn = nn.GRU(input_size=emb_size, #TODO\n",
    "                                  hidden_size=hidden_size, #TODO\n",
    "                                  batch_first=True)\n",
    "        self.proj = nn.Linear(in_features=hidden_size, # TODO\n",
    "                              out_features=vocab_size) # vocab_size in numm of classes\n",
    "\n",
    "    def encode(self, inp):\n",
    "        \"\"\"\n",
    "        Computes the encoder output given a sequence of words.\n",
    "        \"\"\"\n",
    "        emb = self.embed(inp)\n",
    "        out, last_hidden = self.encoder_rnn(emb)\n",
    "        return last_hidden\n",
    "\n",
    "    def decode(self, inp, hidden=None):\n",
    "        \"\"\"\n",
    "        Computes the decoder output given a sequence of words, and\n",
    "        (optionally) an initial hidden state.\n",
    "        \"\"\"\n",
    "        emb = self.embed(inp)\n",
    "        out, last_hidden = self.decoder_rnn(emb, hidden)\n",
    "        out_seq = self.proj(out)\n",
    "        return out_seq, last_hidden\n",
    "\n",
    "    def forward(self, inp):\n",
    "        \"\"\"\n",
    "        Compute both the encoder and decoder forward pass\n",
    "        given an integer input sequence inp with shape [batch_size, seq_length],\n",
    "        with inp[a,b] representing the (index in our vocabulary of) the b-th word\n",
    "        of the a-th training example.\n",
    "\n",
    "        This function should return the logits $z^{(t)}$ in a tensor of shape\n",
    "        [batch_size, seq_length - 1, vocab_size], computed using *teaching forcing*.\n",
    "\n",
    "        The (seq_length - 1) part is not a typo. If you don't understand why\n",
    "        we need to subtract 1, refer to the teacher-forcing diagram above.\n",
    "        \"\"\"\n",
    "\n",
    "        last_hidden = self.encode(inp)\n",
    "        # [batch_size,seq_length-1]\n",
    "        new_inp=inp[:,:-1]\n",
    "        out_seq, last_hidden = self.decode(new_inp,last_hidden)\n",
    "        return  out_seq\n",
    "\n"
   ]
  },
  {
   "cell_type": "markdown",
   "metadata": {
    "id": "_uwpjvIw4KUQ"
   },
   "source": [
    "### Part (b) -- 10%\n",
    "\n",
    "To check that your model is set up correctly, we'll train our autoencoder\n",
    "neural network for at least 300 iterations to memorize this sequence:"
   ]
  },
  {
   "cell_type": "code",
   "execution_count": 196,
   "metadata": {
    "id": "sJmPNMnY4KUQ"
   },
   "outputs": [],
   "source": [
    "headline = train_data[42].title\n",
    "input_seq = torch.Tensor([vocab.stoi[w] for w in headline]).long().unsqueeze(0)"
   ]
  },
  {
   "cell_type": "markdown",
   "metadata": {
    "id": "Qj55uU-C4KUQ"
   },
   "source": [
    "We are looking for the way that you set up your loss function\n",
    "corresponding to the figure above.\n",
    "Be  careful of off-by-one errors here.\n",
    "\n",
    "\n",
    "Note that the Cross Entropy Loss expects a rank-2 tensor as its first\n",
    "argument (the output of the network), and a rank-1 tensor as its second argument (the true label). You will\n",
    "need to properly reshape your data to be able to compute the loss."
   ]
  },
  {
   "cell_type": "code",
   "execution_count": 197,
   "metadata": {
    "colab": {
     "base_uri": "https://localhost:8080/"
    },
    "id": "aScYWbBx4KUQ",
    "outputId": "92150346-a09f-420a-fe08-69990d247681"
   },
   "outputs": [
    {
     "name": "stdout",
     "output_type": "stream",
     "text": [
      "\u001b[1mloss per iteration\u001b[0m\n",
      "[Iter 50] Loss 0.102723\n",
      "[Iter 100] Loss 0.026540\n",
      "[Iter 150] Loss 0.016716\n",
      "[Iter 200] Loss 0.011711\n",
      "[Iter 250] Loss 0.008742\n",
      "[Iter 300] Loss 0.006823\n"
     ]
    }
   ],
   "source": [
    "model = AutoEncoder(vocab_size, 128, 128)\n",
    "optimizer = optim.Adam(model.parameters(), lr=0.001)\n",
    "criterion = nn.CrossEntropyLoss()\n",
    "print(make_bold(\"loss per iteration\"))\n",
    "for it in range(300):\n",
    "    optimizer.zero_grad()\n",
    "    pred = model(input_seq)\n",
    "    pred = pred.view(-1,vocab_size)\n",
    "    input_without_bos = input_seq[:,1:].view(-1) \n",
    "    loss = criterion(pred, input_without_bos)\n",
    "    loss.backward()\n",
    "    optimizer.step()\n",
    "\n",
    "    if (it+1) % 50 == 0:\n",
    "        print(\"[Iter %d] Loss %f\" % (it+1, float(loss)))"
   ]
  },
  {
   "cell_type": "markdown",
   "metadata": {
    "id": "SWKYC3z34KUR"
   },
   "source": [
    "### Part (c) -- 4%\n",
    "\n",
    "Once you are satisfied with your model, encode your input using\n",
    "the RNN encoder, and sample some sequences from the decoder. The \n",
    "sampling code is provided to you, and performs the computation\n",
    "from the first diagram (without teacher forcing).\n",
    "\n",
    "Note that we are sampling from a multi-nomial distribution described\n",
    "by the logits $z^{(t)}$. For example, if our distribution is [80%, 20%]\n",
    "over a vocabulary of two words, then we will choose the first word\n",
    "with 80% probability and the second word with 20% probability.\n",
    "\n",
    "Call `sample_sequence` at least 5 times, with the default temperature\n",
    "value. Make sure to include the generated sequences in your PDF\n",
    "report."
   ]
  },
  {
   "cell_type": "code",
   "execution_count": 198,
   "metadata": {
    "id": "6vjVvmn14KUR"
   },
   "outputs": [],
   "source": [
    "def sample_sequence(model, hidden, max_len=20, temperature=1):\n",
    "    \"\"\"\n",
    "    Return a sequence generated from the model's decoder\n",
    "        - model: an instance of the AutoEncoder model\n",
    "        - hidden: a hidden state (e.g. computed by the encoder)\n",
    "        - max_len: the maximum length of the generated sequence\n",
    "        - temperature: described in Part (d)\n",
    "    \"\"\"\n",
    "    # We'll store our generated sequence here\n",
    "    generated_sequence = []\n",
    "    # Set input to the <BOS> token\n",
    "    inp = torch.Tensor([text_field.vocab.stoi[\"<bos>\"]]).long()\n",
    "    for p in range(max_len):\n",
    "        # compute the output and next hidden unit\n",
    "        output, hidden = model.decode(inp.unsqueeze(0), hidden)\n",
    "        # Sample from the network as a multinomial distribution\n",
    "        output_dist = output.data.view(-1).div(temperature).exp()\n",
    "        top_i = int(torch.multinomial(output_dist, 1)[0])\n",
    "        # Add predicted word to string and use as next input\n",
    "        word = text_field.vocab.itos[top_i]\n",
    "        # Break early if we reach <eos>\n",
    "        if word == \"<eos>\":\n",
    "            break\n",
    "        generated_sequence.append(word)\n",
    "        inp = torch.Tensor([top_i]).long()\n",
    "    return generated_sequence\n",
    "\n"
   ]
  },
  {
   "cell_type": "code",
   "execution_count": 199,
   "metadata": {
    "colab": {
     "base_uri": "https://localhost:8080/"
    },
    "id": "vXryPpWkDwfs",
    "outputId": "b947b3ba-0f0a-4198-bcc0-18cf9f46890a"
   },
   "outputs": [
    {
     "name": "stdout",
     "output_type": "stream",
     "text": [
      "\u001b[1m\u001b[4msample_sequence with  default temperature value:\u001b[0m\u001b[0m\n",
      "\u001b[1m1)\u001b[0m ['zambian', 'president', 'swears', 'in', 'new', 'army', 'chief']\n",
      "\u001b[1m2)\u001b[0m ['zambian', 'president', 'swears', 'in', 'new', 'army', 'chief']\n",
      "\u001b[1m3)\u001b[0m ['zambian', 'president', 'swears', 'in', 'new', 'in', 'new', 'army', 'chief']\n",
      "\u001b[1m4)\u001b[0m ['zambian', 'president', 'swears', 'in', 'new', 'army', 'chief']\n",
      "\u001b[1m5)\u001b[0m ['zambian', 'president', 'swears', 'in', 'new', 'army', 'chief']\n"
     ]
    }
   ],
   "source": [
    "# Your solutions go here\n",
    "print(make_bold(make_underline(\"sample_sequence with  default temperature value:\")))\n",
    "hidden = model.encode(input_seq)\n",
    "for i in range(5):\n",
    "  print(make_bold(str(i+1)+\")\"),sample_sequence(model,hidden))"
   ]
  },
  {
   "cell_type": "markdown",
   "metadata": {
    "id": "0T7gcPnn4KUR"
   },
   "source": [
    "### Part (d) -- 6%\n",
    "\n",
    "The multi-nomial distribution can be manipulated using the `temperature`\n",
    "setting. This setting can be used to make the distribution \"flatter\" (e.g.\n",
    "more likely to generate different words) or \"peakier\" (e.g. less likely\n",
    "to generate different words).\n",
    "\n",
    "Call `sample_sequence` at least 5 times each for at least 3 different\n",
    "temperature settings (e.g. 1.5, 2, and 5). Explain why we generally\n",
    "don't want the temperature setting to be too **large**.\n",
    "\n",
    "**Explanation:**\n",
    "As the tempature rise the multi-nomial distribution is getting \"flatter\" hence it is  more likely to generate different words.\n",
    "We generally don't want the temperature setting to be too large because we would genetrate really different word in randomness and the senteses would not make sense."
   ]
  },
  {
   "cell_type": "code",
   "execution_count": 200,
   "metadata": {
    "colab": {
     "base_uri": "https://localhost:8080/"
    },
    "id": "jA_S0cmE4KUR",
    "outputId": "cf63bef4-6b28-470d-d137-8ed5ee627dae"
   },
   "outputs": [
    {
     "name": "stdout",
     "output_type": "stream",
     "text": [
      "\u001b[1m\u001b[4msample_sequence with  different temperature value:\u001b[0m\u001b[0m\n",
      "\u001b[1mtemp 1.5:\u001b[0m\n",
      "\u001b[1m1)\u001b[0m ['zambian', 'zambian', 'president', 'swears', 'in', 'new', 'year-on-year', 'hurricane', 'donbass', 'bahn', 'shape', 'valued', 'homebuilder', '_num_-ryanair', 'denounce', 'chief', 'in', 'packing', 'madoff', 'having']\n",
      "\u001b[1m2)\u001b[0m ['zambian', 'debacle', 'in', 'new', 'army', 'fold']\n",
      "\u001b[1m3)\u001b[0m ['zambian', 'president', 'swears', 'uncertainties', 'new', 'new', 'army', 'sensor', 'turkey', 'overseas', 'hill', 'farmers', 'ocean', 'cpi', 'zambian', 'in', 'dampens', 'tunnel', 'nile', 'prefers']\n",
      "\u001b[1m4)\u001b[0m ['zambian', 'president', 'swears', 'in', 'new', 'army', 'producing']\n",
      "\u001b[1m5)\u001b[0m ['zambian', 'pardon', 'swears', 'ease', 'collision', 'stoltenberg', 'skid', 'sparking', '1,200', 'chief', 'islamists', 'dp', 'woodland', 'everything', 'army', 'mnuchin', 'spotlight', 'roads', '_num_-7', 'carnival']\n",
      "=====================================\n",
      "\u001b[1mtemp 2:\u001b[0m\n",
      "\u001b[1m1)\u001b[0m ['zambian', 'moon', 'celebrations', ';', 'yonhap', 'epidemic', 'monitors', 'act', 'restructures', 'nationalist', 'belt', 'stabbings', 'liquidation', 'vuitton', 'anglo', 'nissan', 'shilling', 'drove', 'pre-election', 'fein']\n",
      "\u001b[1m2)\u001b[0m ['_num_-singapore', 'ousts', 'swears', 'clings', '_num_-intel', 'a321xlr', 'pepsico', 'events', 'successful', 'loading', 'steer', 'amber', 'billion', 'florida', 'blind', 'watching', 'army', 'figures', 'crossing', 'channels']\n",
      "\u001b[1m3)\u001b[0m ['bryant', 'cenbank', 'france-klm', 'frets', 'friendly', 'check', 'triple', 'tornadoes', 'vegas', 'sueddeutsche', 'grace', 'xerox', 'wildcard', 'defending', 'so', 'markets-asian', 'army', 'chief', 'fighter', 'exec']\n",
      "\u001b[1m4)\u001b[0m ['nomura', 'unilever', 'in', 'ola', 'plots', 'sudden', 'recognise', 'list', 'notes', 'driving', 'suu', 'thunder', 'serbian', 'yearly', 'americas', 'embraer', 'secondary', 'vodafone', 'u.s.-japan', 'infection']\n",
      "\u001b[1m5)\u001b[0m ['lied', 'situation', 'hna', '-cftc', 'tornadoes', 'fashion', 'weapon', 'cancer-causing', 'chance', 'disposal', 'workers', 'shorter', 'thanks', '_num_-japan', 'table-uae', 'anti-doping', 'spokesman', 'zambian', 'era', 'davos']\n",
      "=====================================\n",
      "\u001b[1mtemp 5:\u001b[0m\n",
      "\u001b[1m1)\u001b[0m ['trap', 'where', 'background', 'provinces', 'grew', 'irving', 'scrapped', 'hill', 'technical', \"'re\", 'nadal', '_num_-global', 'tea', 'lights', 'heightening', 'heads', 'drove', 'another', 'elections', 'fueling']\n",
      "\u001b[1m2)\u001b[0m ['cds', 'met', 'rba', 'fiery', 'protecting', 'synagogue', 'operate', 'largely', '_num_-nike', 'platform', 'pact', 'sears', 'perform', 'reviews', 'sdf', 'stoking', 'trash', 'cooperate', 'rosneft', 'barneys']\n",
      "\u001b[1m3)\u001b[0m ['kushner', 'u.s', 'actress', 'dayton', 'reported', 'evacuates', 'overturn', 'booms', 'relatives', 'prompts', 'honor', 'kidnapped', 'extreme', 'extinguished', 'mainline', 'yemen', 'treasurer', 'downgrade', 'replacement', 'killings']\n",
      "\u001b[1m4)\u001b[0m ['how', 'northwest', 'companies', 'peru', 'robot', 'bold', '_num_-walmart', 'tyson', 'old', 'sway', 'spacecraft', 'nile', 'dull', 'bomb', 'macri', 'pensions', 'salvadoran', 'leviathan', 'texans', 'rematch']\n",
      "\u001b[1m5)\u001b[0m ['-state', 'rivals', 'cb', 'prayers', 'hook', '_num_-brexit', 'due', 'turns', 'highlights', '_num_-man', '-cfo', 's.', 'picket', 'catastrophe', 'drifts', '_num_-southwest', 'huffman', 'zuckerberg', 'pay', 'justices']\n",
      "=====================================\n"
     ]
    }
   ],
   "source": [
    "# Include the generated sequences and explanation in your PDF report.\n",
    "print(make_bold(make_underline(\"sample_sequence with  different temperature value:\")))\n",
    "\n",
    "hidden = model.encode(input_seq)\n",
    "for temp in [1.5,2,5]:\n",
    "  print(make_bold(\"temp \"+str(temp)+\":\"))\n",
    "  for i in range(5):\n",
    "    print(make_bold(str(i+1)+\")\"),sample_sequence(model,hidden,temperature=temp))\n",
    "  print(\"=====================================\")"
   ]
  },
  {
   "cell_type": "markdown",
   "metadata": {
    "id": "tqahXwWuzXh7"
   },
   "source": [
    "We can tell tempature 5 is too big and indead we get some random words and not a logical sentence."
   ]
  },
  {
   "cell_type": "markdown",
   "metadata": {
    "id": "ZK4ptUb54KUS"
   },
   "source": [
    "## Question 3. Data augmentation (20%)\n",
    "\n",
    "It turns out that getting good results from a text auto-encoder is very difficult,\n",
    "and that it is very easy for our model to **overfit**. We have discussed several methods\n",
    "that we can use to prevent overfitting, and we'll introduce one more today:\n",
    "**data augmentation**.\n",
    "\n",
    "The idea behind data augmentation is to artificially increase the number of training\n",
    "examples by \"adding noise\" to the image. For example, during AlexNet training,\n",
    "the authors randomly cropped $224\\times 224$\n",
    "regions of a $256 \\times 256$ pixel image to increase the amount of training data.\n",
    "The authors also flipped the image left/right.\n",
    "Machine learning practitioners can also add Gaussian noise to the image.\n",
    "\n",
    "When we use data augmentation to train an *autoencoder*, we typically to only add\n",
    "the noise to the input, and expect the reconstruction to be *noise free*.\n",
    "This makes the task of the autoencoder even more difficult. An autoencoder trained\n",
    "with noisy inputs is called a **denoising auto-encoder**. For simplicity, we will\n",
    "*not* build a denoising autoencoder today.\n",
    "\n"
   ]
  },
  {
   "cell_type": "markdown",
   "metadata": {
    "id": "yieWyWqS4KUS"
   },
   "source": [
    "### Part (a) -- 5%\n",
    "\n",
    "We will add noise to our headlines using a few different techniques:\n",
    "\n",
    "1. Shuffle the words in the headline, taking care that words don't end up too far from where they were initially\n",
    "2. Drop (remove) some words \n",
    "3. Replace some words with a blank word (a `<pad>` token)\n",
    "4. Replace some words with a random word \n",
    "\n",
    "The code for adding these types of noise is provided for you:"
   ]
  },
  {
   "cell_type": "code",
   "execution_count": 201,
   "metadata": {
    "id": "IGb3uL5U4KUS"
   },
   "outputs": [],
   "source": [
    "def tokenize_and_randomize(headline,\n",
    "                           drop_prob=0.1,  # probability of dropping a word\n",
    "                           blank_prob=0.1, # probability of \"blanking\" out a word\n",
    "                           sub_prob=0.1,   # probability of substituting a word with a random one\n",
    "                           shuffle_dist=3): # maximum distance to shuffle a word\n",
    "    \"\"\"\n",
    "    Add 'noise' to a headline by slightly shuffling the word order,\n",
    "    dropping some words, blanking out some words (replacing with the <pad> token)\n",
    "    and substituting some words with random ones.\n",
    "    \"\"\"\n",
    "    headline = [vocab.stoi[w] for w in headline.split()]\n",
    "    n = len(headline)\n",
    "    # shuffle\n",
    "    headline = [headline[i] for i in get_shuffle_index(n, shuffle_dist)]\n",
    "\n",
    "    new_headline = [vocab.stoi['<bos>']]\n",
    "    for w in headline:\n",
    "        if random.random() < drop_prob:\n",
    "            # drop the word\n",
    "            pass\n",
    "        elif random.random() < blank_prob:\n",
    "            # replace with blank word\n",
    "            new_headline.append(vocab.stoi[\"<pad>\"])\n",
    "        elif random.random() < sub_prob:\n",
    "            # substitute word with another word\n",
    "            new_headline.append(random.randint(0, vocab_size - 1))\n",
    "        else:\n",
    "            # keep the original word\n",
    "            new_headline.append(w)\n",
    "    new_headline.append(vocab.stoi['<eos>'])\n",
    "    return new_headline\n",
    "\n",
    "def get_shuffle_index(n, max_shuffle_distance):\n",
    "    \"\"\" This is a helper function used to shuffle a headline with n words,\n",
    "    where each word is moved at most max_shuffle_distance. The function does\n",
    "    the following: \n",
    "       1. start with the *unshuffled* index of each word, which\n",
    "          is just the values [0, 1, 2, ..., n]\n",
    "       2. perturb these \"index\" values by a random floating-point value between\n",
    "          [0, max_shuffle_distance]\n",
    "       3. use the sorted position of these values as our new index\n",
    "    \"\"\"\n",
    "    index = np.arange(n)\n",
    "    perturbed_index = index + np.random.rand(n) * 3\n",
    "    new_index = sorted(enumerate(perturbed_index), key=lambda x: x[1])\n",
    "    return [index for (index, pert) in new_index]"
   ]
  },
  {
   "cell_type": "markdown",
   "metadata": {
    "id": "h8t6eZgy4KUT"
   },
   "source": [
    "Call the function `tokenize_and_randomize` 5 times on a headline of your\n",
    "choice. Make sure to include both your original headline, and the five new\n",
    "headlines in your report."
   ]
  },
  {
   "cell_type": "code",
   "execution_count": 202,
   "metadata": {
    "colab": {
     "base_uri": "https://localhost:8080/"
    },
    "id": "CktsYMIE4KUT",
    "outputId": "31f83ba3-c50e-44af-d9c0-4eafd4e53977"
   },
   "outputs": [
    {
     "name": "stdout",
     "output_type": "stream",
     "text": [
      "\u001b[1m\u001b[4mtokenize_and_randomize on headline: \"zambian president swears in new army chief\"\u001b[0m\u001b[0m\n",
      "\u001b[1m1)\u001b[0m ['<bos>', 'zambian', 'president', 'swears', 'in', 'will', 'chief', 'army', '<eos>']\n",
      "\u001b[1m2)\u001b[0m ['<bos>', 'zambian', 'parade', 'swears', 'in', 'army', 'new', 'chief', '<eos>']\n",
      "\u001b[1m3)\u001b[0m ['<bos>', 'zambian', 'swears', 'president', 'in', 'new', 'army', 'chief', '<eos>']\n",
      "\u001b[1m4)\u001b[0m ['<bos>', '<pad>', 'rail', 'swears', 'in', 'chief', '<eos>']\n",
      "\u001b[1m5)\u001b[0m ['<bos>', '<pad>', '<pad>', 'in', '<pad>', 'new', '<pad>', 'army', '<eos>']\n"
     ]
    }
   ],
   "source": [
    "headline = train_data[42].title\n",
    "new_headline=' '.join(headline[1:-1])\n",
    "print(make_bold(make_underline(\"tokenize_and_randomize on headline: \\\"\"+new_headline+\"\\\"\")))\n",
    "\n",
    "for i in range(5):\n",
    "  print(make_bold(str(i+1)+\")\"),[vocab.itos[x] for x in tokenize_and_randomize(new_headline)])"
   ]
  },
  {
   "cell_type": "markdown",
   "metadata": {
    "id": "rHKlJr_m4KUT"
   },
   "source": [
    "### Part (b) -- 8%\n",
    "\n",
    "The training code that we use to train the model is mostly provided for you. \n",
    "The only part we left blank are the parts from Q2(b). Complete the code,\n",
    "and train a new AutoEncoder model for 1 epoch. You can train your model\n",
    "for longer if you want, but training tend to take a long time,\n",
    "so we're only checking to see that your training loss is trending down.\n",
    "\n",
    "If you are using Google Colab, you can use a GPU for this portion.\n",
    "Go to \"Runtime\" => \"Change Runtime Type\"  and set \"Hardware acceleration\" to GPU.\n",
    "Your Colab session will restart.\n",
    "You can move your model to the GPU by typing `model.cuda()`, and move\n",
    "other tensors to GPU (e.g. `xs = xs.cuda()`). To move a model back to CPU,\n",
    "type `model.cpu`. To move a tensor back, use `xs = xs.cpu()`. For training,\n",
    "your model and inputs need to be on the *same device*."
   ]
  },
  {
   "cell_type": "code",
   "execution_count": 203,
   "metadata": {
    "id": "9IXnUFUJ4KUT"
   },
   "outputs": [],
   "source": [
    "def train_autoencoder(model, batch_size=64, learning_rate=0.001, num_epochs=10):\n",
    "    optimizer = optim.Adam(model.parameters(), lr=learning_rate)\n",
    "    criterion = nn.CrossEntropyLoss()\n",
    "    losses=[]\n",
    "    iters=[]\n",
    "    for ep in range(num_epochs):\n",
    "        # We will perform data augmentation by re-reading the input each time\n",
    "        field = data.Field(sequential=True,\n",
    "                                     tokenize=tokenize_and_randomize, # <-- data augmentation\n",
    "                                     include_lengths=True,\n",
    "                                     batch_first=True,\n",
    "                                     use_vocab=False, # <-- the tokenization function replaces this\n",
    "                                     pad_token=vocab.stoi['<pad>'])\n",
    "        dataset = data.TabularDataset(train_path, \"tsv\", [('title', field)])\n",
    "        # This BucketIterator will handle padding of sequences that are not of the same length\n",
    "        train_iter = data.BucketIterator(dataset,\n",
    "                                                   batch_size=batch_size,\n",
    "                                                   sort_key=lambda x: len(x.title), # to minimize padding\n",
    "                                                   repeat=False)\n",
    "        \n",
    "        for it, ((xs, lengths), _) in enumerate(train_iter):\n",
    "          xs=xs.cuda()\n",
    "          optimizer.zero_grad()\n",
    "          pred = model(xs)\n",
    "          pred = pred.reshape(-1,vocab_size)\n",
    "          input_without_bos = xs[:,1:].reshape(-1)\n",
    "          loss = criterion(pred, input_without_bos)\n",
    "          loss.backward()\n",
    "          optimizer.step()\n",
    "          if (it+1) % 100 == 0:\n",
    "            iters.append(it)\n",
    "            losses.append(loss)\n",
    "            print(\"[Iter %d] Loss %f\" % (it+1, float(loss)))\n",
    "    return iters,losses"
   ]
  },
  {
   "cell_type": "code",
   "execution_count": 204,
   "metadata": {
    "id": "ZjyATT6lFmnr"
   },
   "outputs": [],
   "source": [
    "# change name of original signature\n",
    "def plot_learning_curve(iters, train_losses):\n",
    "    \"\"\"\n",
    "    Plot the learning curve.\n",
    "    \"\"\"\n",
    "    plt.title(\"Learning Curve: Loss per Iteration\")\n",
    "    plt.plot(iters, train_losses, label=\"Train\")\n",
    "    plt.xlabel(\"Iterations\")\n",
    "    plt.ylabel(\"Loss\")\n",
    "    plt.show()"
   ]
  },
  {
   "cell_type": "code",
   "execution_count": 205,
   "metadata": {
    "colab": {
     "base_uri": "https://localhost:8080/",
     "height": 752
    },
    "id": "M5R3jiqsao8M",
    "outputId": "f764ec10-b1ae-4016-f220-64541e93db12"
   },
   "outputs": [
    {
     "name": "stdout",
     "output_type": "stream",
     "text": [
      "[Iter 100] Loss 3.929831\n",
      "[Iter 200] Loss 3.913346\n",
      "[Iter 300] Loss 4.199826\n",
      "[Iter 400] Loss 4.106308\n",
      "[Iter 500] Loss 4.045897\n",
      "[Iter 600] Loss 3.663965\n",
      "[Iter 700] Loss 3.920741\n",
      "[Iter 800] Loss 3.647631\n",
      "[Iter 900] Loss 3.606497\n",
      "[Iter 1000] Loss 3.396665\n",
      "[Iter 1100] Loss 3.697790\n",
      "[Iter 1200] Loss 3.774533\n",
      "[Iter 1300] Loss 3.863959\n",
      "[Iter 1400] Loss 3.076610\n",
      "[Iter 1500] Loss 3.573408\n",
      "[Iter 1600] Loss 3.185116\n",
      "[Iter 1700] Loss 2.954397\n",
      "[Iter 1800] Loss 2.812865\n",
      "[Iter 1900] Loss 3.138788\n",
      "[Iter 2000] Loss 3.135981\n",
      "[Iter 2100] Loss 3.059474\n",
      "[Iter 2200] Loss 3.683353\n",
      "[Iter 2300] Loss 3.305320\n",
      "[Iter 2400] Loss 3.210059\n",
      "[Iter 2500] Loss 3.225310\n",
      "[Iter 2600] Loss 2.913748\n"
     ]
    },
    {
     "data": {
      "image/png": "[encoded data removed]",
      "text/plain": [
       "<Figure size 432x288 with 1 Axes>"
      ]
     },
     "metadata": {
      "needs_background": "light",
      "tags": []
     },
     "output_type": "display_data"
    }
   ],
   "source": [
    "model = AutoEncoder(vocab_size, 128, 128).cuda()\n",
    "iters, losses = train_autoencoder(model,num_epochs=1)\n",
    "plot_learning_curve(iters, losses)"
   ]
  },
  {
   "cell_type": "markdown",
   "metadata": {
    "id": "wQot60XU4KUT"
   },
   "source": [
    "### Part (c) -- 7%\n",
    "\n",
    "This model requires many epochs (>50) to train, and is quite slow without using a GPU.\n",
    "You can train a model yourself, or you can load the model weights that we have trained,\n",
    "and available on the course website (AE_RNN_model.pk).\n",
    "\n",
    "Assuming that your `AutoEncoder` is set up correctly, the following code should run without\n",
    "error."
   ]
  },
  {
   "cell_type": "code",
   "execution_count": 206,
   "metadata": {
    "colab": {
     "base_uri": "https://localhost:8080/"
    },
    "id": "vaUUhd-Q4KUU",
    "outputId": "9d230dda-8ab6-428f-ee00-eb6e8c24127d"
   },
   "outputs": [
    {
     "data": {
      "text/plain": [
       "<All keys matched successfully>"
      ]
     },
     "execution_count": 206,
     "metadata": {
      "tags": []
     },
     "output_type": "execute_result"
    }
   ],
   "source": [
    "model = AutoEncoder(10000, 128, 128)\n",
    "\n",
    "checkpoint_path = '/content/gdrive/MyDrive/Intro_to_Deep_Learning/assignment4/AE_RNN_model.pk' # Update me\n",
    "model.load_state_dict(torch.load(checkpoint_path))"
   ]
  },
  {
   "cell_type": "markdown",
   "metadata": {
    "id": "sG-xazc24KUU"
   },
   "source": [
    "Then, repeat your code from Q2(d), for `train_data[10].title`\n",
    "with temperature settings 0.7, 0.9, and 1.5.\n",
    "Explain why we generally don't want the temperature setting to\n",
    "be too **small**."
   ]
  },
  {
   "cell_type": "code",
   "execution_count": 207,
   "metadata": {
    "colab": {
     "base_uri": "https://localhost:8080/"
    },
    "id": "AXF5iBHX4KUU",
    "outputId": "b8cbdfaa-37f2-4b36-ba5b-9755c9506768"
   },
   "outputs": [
    {
     "name": "stdout",
     "output_type": "stream",
     "text": [
      "\u001b[1minput: \"<bos> wall street rises , limps across the finish line of a turbulent year <eos>\"\u001b[0m\n",
      "\u001b[1m\u001b[4mtemp 0.7:\u001b[0m\u001b[0m\n",
      "\u001b[1m1)\u001b[0m ['wall', 'street', 'rises', ',', 'limps', 'across', 'the', 'finish', 'line', 'of', 'a', 'turbulent', 'year']\n",
      "\u001b[1m2)\u001b[0m ['wall', 'street', 'rises', ',', 'limps', 'across', 'the', 'finish', 'line', 'of', 'a', 'turbulent', 'year']\n",
      "\u001b[1m3)\u001b[0m ['wall', 'street', 'rises', ',', 'limps', 'open', 'across', 'woman', '_num_-opec', 'to', 'september', 'fire', 'finds']\n",
      "\u001b[1m4)\u001b[0m ['wall', 'street', 'rises', ',', 'limps', 'die', 'win', 'at', 'of', 'sciences', '<pad>', 'presidential', 'amid']\n",
      "\u001b[1m5)\u001b[0m ['wall', 'street', 'rises', ',', 'limps', 'dead', 'anthem', 'with', '<pad>', \"'s\", 'change', 'for', 'singapore']\n",
      "=============================\n",
      "\u001b[1m\u001b[4mtemp 0.9:\u001b[0m\u001b[0m\n",
      "\u001b[1m1)\u001b[0m ['wall', 'street', 'rises', ',', 'limps', 'heist', 'join', 'searches', '_num_', 'deal', 'clear', 'after', 'sight']\n",
      "\u001b[1m2)\u001b[0m ['wall', 'street', 'rises', ',', 'limps', 'open', 'detroit', ',', 'circus', 'says', 'share', ':', 'finds']\n",
      "\u001b[1m3)\u001b[0m ['wall', 'street', 'rises', ',', 'limps', 'die', 'win', 'at', 'of', 'sciences', '<pad>', 'four', 'war']\n",
      "\u001b[1m4)\u001b[0m ['wall', 'street', 'rises', ',', 'scales', 'finish', 'dead', 'on', 'trash', 'hong', 'norway', 'whole', 'core']\n",
      "\u001b[1m5)\u001b[0m ['wall', 'street', 'rises', ',', 'limps', 'form', 'atlantia', 'after', 'to', 'moratorium', '<pad>', 'year', 'turbulent']\n",
      "=============================\n",
      "\u001b[1m\u001b[4mtemp 1.5:\u001b[0m\u001b[0m\n",
      "\u001b[1m1)\u001b[0m ['wall', 'street', 'rises', ',', 'jd.com', 'passage', 'australia', 'after', 'primed', '<pad>', 'three', 'india', 'narrows']\n",
      "\u001b[1m2)\u001b[0m ['wall', 'street', 'rises', ',', 'kurz', 'bottleneck', 'banks', 'in', 'gilead', 'block', 'fall', 'u.s.', 'above']\n",
      "\u001b[1m3)\u001b[0m ['wall', 'street', 'rises', ',', 'ditches', 'longer', 'australia', 'families', 'in', 'energy', 'after', 'israelis', 'another']\n",
      "\u001b[1m4)\u001b[0m ['wall', 'street', 'softbank', 'rally', 'socialists', 'floating', 'form', 'in', '<pad>', 'raises', 'futures', 'northern', 'year']\n",
      "\u001b[1m5)\u001b[0m ['wall', 'street', 'sticks', 'exposure', 'modi', 'science', '<unk>', 'ways', ',', 'party', '<pad>', 'investments', 'four', 'land']\n",
      "=============================\n"
     ]
    }
   ],
   "source": [
    "# Include the generated sequences and explanation in your PDF report.\n",
    "\n",
    "headline = train_data[10].title\n",
    "input_seq = torch.Tensor([vocab.stoi[w] for w in headline]).unsqueeze(0).long()\n",
    "print(make_bold(\"input: \\\"\"+' '.join(headline)+\"\\\"\"))\n",
    "hidden = model.encode(input_seq)\n",
    "for temp in [0.7,0.9,1.5]:\n",
    "  print(make_bold(make_underline(\"temp \"+str(temp)+\":\")))\n",
    "  for i in range(5):\n",
    "    print(make_bold(str(i+1)+\")\"),sample_sequence(model,hidden,temperature=temp))\n",
    "  print(\"=============================\")\n"
   ]
  },
  {
   "cell_type": "markdown",
   "metadata": {
    "id": "IJm2cdiXziJt"
   },
   "source": [
    "Here for tempature 0.7 and 0.9 we get almost the same sentence as the original inputs- hence the tempature is too low. "
   ]
  },
  {
   "cell_type": "markdown",
   "metadata": {
    "id": "tgjhZHJDRljU"
   },
   "source": [
    "**Write your explanation here:**\n",
    "As the tempature decrease the distribution becomes peakier . for tempature too high we will get a \"delta function\" and the generation would me almost deterministic and we would just memorize the input sentences."
   ]
  },
  {
   "cell_type": "markdown",
   "metadata": {
    "id": "mftjD-To4KUU"
   },
   "source": [
    "## Question 4. Latent space manipulations (20%)\n",
    "\n",
    "In parts 2-3, we've explored the decoder portion of the autoencoder. In this section,\n",
    "let's explore the **encoder**. In particular, the encoder RNN gives us \n",
    "embeddings of news headlines!\n",
    "\n",
    "First, let's load the **validation** data set:"
   ]
  },
  {
   "cell_type": "code",
   "execution_count": 208,
   "metadata": {
    "id": "08HhRGfm4KUU"
   },
   "outputs": [],
   "source": [
    "valid_data = data.TabularDataset(\n",
    "    path=valid_path,                # data file path\n",
    "    format=\"tsv\",                   # fields are separated by a tab\n",
    "    fields=[('title', text_field)]) # list of fields (we have only one)"
   ]
  },
  {
   "cell_type": "markdown",
   "metadata": {
    "id": "utBRC0tq4KUV"
   },
   "source": [
    "### Part (a) -- 4%\n",
    "\n",
    "Compute the embeddings of every item in the validation set. Then, store the\n",
    "result in a single PyTorch tensor of shape `[19046, 128]`, since there are\n",
    "19,046 headlines in the validation set."
   ]
  },
  {
   "cell_type": "code",
   "execution_count": 209,
   "metadata": {
    "colab": {
     "base_uri": "https://localhost:8080/"
    },
    "id": "9GmdVIPB4KUV",
    "outputId": "267316c5-a5d4-4032-c6a3-55fe4cee44f0"
   },
   "outputs": [
    {
     "name": "stdout",
     "output_type": "stream",
     "text": [
      "torch.Size([19046, 128])\n"
     ]
    }
   ],
   "source": [
    "# Write your code here\n",
    "# Show that your resulting PyTorch tensor has shape `[19046, 128]`\n",
    "model.cuda()\n",
    "embeddings=[]\n",
    "for xs in valid_data:\n",
    "  headline=xs.title\n",
    "  input_seq = torch.Tensor([vocab.stoi[w] for w in headline]).unsqueeze(0).long().cuda()\n",
    "  encoding = model.encode(input_seq).detach().squeeze(0)\n",
    "  embeddings.append(encoding)\n",
    "\n",
    "word_emb = torch.cat(embeddings, dim=0)\n",
    "print(word_emb.size())"
   ]
  },
  {
   "cell_type": "markdown",
   "metadata": {
    "id": "BlKbT2vW4KUV"
   },
   "source": [
    "### Part (b) -- 4%\n",
    "\n",
    "\n",
    "Find the 5 closest headlines to the headline `valid_data[13]`. Use the\n",
    "cosine similarity to determine closeness. (Hint: You can use code from assignment 2)"
   ]
  },
  {
   "cell_type": "code",
   "execution_count": 217,
   "metadata": {
    "id": "Rm7ex_MOm3Hx"
   },
   "outputs": [],
   "source": [
    "def print_five_closet(example_num,word_emb):\n",
    "  headline = valid_data[example_num].title\n",
    "  input_seq = torch.Tensor([vocab.stoi[w] for w in headline]).unsqueeze(0).long()\n",
    "  encoding = model.encode(input_seq).detach().squeeze(0)\n",
    "\n",
    "  word_emb=word_emb.cpu()\n",
    "  norms = np.linalg.norm(word_emb, axis=1)\n",
    "  emb_headlines_norm = (word_emb.T / norms).T\n",
    "  enc_norm = encoding.numpy() / np.linalg.norm(encoding.numpy(), axis=1)\n",
    "  similarities = np.matmul(enc_norm, emb_headlines_norm.T)\n",
    "  five_max_indices = (-similarities.squeeze()).argsort()[1:6]\n",
    "  \n",
    "  # print\n",
    "  print(make_underline(make_bold(\"5 closetst headlines to \\\"\"+' '.join(valid_data[example_num].title)+\"\\\":\\n\")))\n",
    "  for i,idx in enumerate(five_max_indices):\n",
    "    print(make_bold(str(i+1)+\")\"),make_bold(\"similarity:\"),similarities[0][idx].numpy(),make_bold(\" || headline:\"),' '.join(valid_data[idx].title))"
   ]
  },
  {
   "cell_type": "code",
   "execution_count": 218,
   "metadata": {
    "colab": {
     "base_uri": "https://localhost:8080/"
    },
    "id": "F2nyzZ6XjatZ",
    "outputId": "4a5de388-2a21-44b8-a25b-f46f53cbe741"
   },
   "outputs": [
    {
     "name": "stdout",
     "output_type": "stream",
     "text": [
      "\u001b[4m\u001b[1m5 closetst headlines to \"<bos> asia takes heart from new year gains in u.s. stock futures <eos>\":\n",
      "\u001b[0m\u001b[0m\n",
      "\u001b[1m1)\u001b[0m \u001b[1msimilarity:\u001b[0m 0.9308761 \u001b[1m || headline:\u001b[0m <bos> italy 's salvini loses aura of invincibility in emilia setback <eos>\n",
      "\u001b[1m2)\u001b[0m \u001b[1msimilarity:\u001b[0m 0.930557 \u001b[1m || headline:\u001b[0m <bos> saudi , russia look to seal deeper output cuts with oil producers <eos>\n",
      "\u001b[1m3)\u001b[0m \u001b[1msimilarity:\u001b[0m 0.9298552 \u001b[1m || headline:\u001b[0m <bos> eu orders quarantine for staff who traveled to northern italy <eos>\n",
      "\u001b[1m4)\u001b[0m \u001b[1msimilarity:\u001b[0m 0.92876196 \u001b[1m || headline:\u001b[0m <bos> update _num_-italy 's prime minister says new government will bicker less <eos>\n",
      "\u001b[1m5)\u001b[0m \u001b[1msimilarity:\u001b[0m 0.9280871 \u001b[1m || headline:\u001b[0m <bos> portugal 's moura pays tribute to cod fishermen at milan fashion close <eos>\n"
     ]
    }
   ],
   "source": [
    "model.cpu()\n",
    "print_five_closet(13,word_emb)"
   ]
  },
  {
   "cell_type": "markdown",
   "metadata": {
    "id": "cAzZt4bU4KUW"
   },
   "source": [
    "### Part (c) -- 4%\n",
    "\n",
    "Find the 5 closest headlines to another headline of your choice."
   ]
  },
  {
   "cell_type": "code",
   "execution_count": 219,
   "metadata": {
    "colab": {
     "base_uri": "https://localhost:8080/"
    },
    "id": "BkKR09Ce4KUW",
    "outputId": "301bf05c-6c28-4c5b-b8b0-6cc25e527973"
   },
   "outputs": [
    {
     "name": "stdout",
     "output_type": "stream",
     "text": [
      "\u001b[4m\u001b[1m5 closetst headlines to \"<bos> indian manufacturing growth slows in december despite price cuts : pmi <eos>\":\n",
      "\u001b[0m\u001b[0m\n",
      "\u001b[1m1)\u001b[0m \u001b[1msimilarity:\u001b[0m 0.94242764 \u001b[1m || headline:\u001b[0m <bos> indian oil plans to shut units at northeast refineries to upgrade fuel : sources <eos>\n",
      "\u001b[1m2)\u001b[0m \u001b[1msimilarity:\u001b[0m 0.93822354 \u001b[1m || headline:\u001b[0m <bos> indian authorities recover bodies of seven climbers from mountain , one still missing <eos>\n",
      "\u001b[1m3)\u001b[0m \u001b[1msimilarity:\u001b[0m 0.9336342 \u001b[1m || headline:\u001b[0m <bos> indian economic growth drops to just _num_ % in jan-march quarter , falls behind china <eos>\n",
      "\u001b[1m4)\u001b[0m \u001b[1msimilarity:\u001b[0m 0.9303627 \u001b[1m || headline:\u001b[0m <bos> china first-quarter gdp growth steady at _num_ percent , beats expectations for slowdown <eos>\n",
      "\u001b[1m5)\u001b[0m \u001b[1msimilarity:\u001b[0m 0.9295902 \u001b[1m || headline:\u001b[0m <bos> china 's first-quarter smartphone sales may halve due to coronavirus : analysts <eos>\n"
     ]
    }
   ],
   "source": [
    "print_five_closet(17,word_emb)"
   ]
  },
  {
   "cell_type": "markdown",
   "metadata": {
    "id": "SdieFkYFynHA"
   },
   "source": [
    "We can tell that those sentences are indeed close because the original headline has indian as the subject , and the 3 most similiar headlines also had Indian as subject.\n",
    "The next closest headline is with China insteas of indian, when China is also a state to it has similar meanings."
   ]
  },
  {
   "cell_type": "markdown",
   "metadata": {
    "id": "ftUooZD-4KUW"
   },
   "source": [
    "### Part (d) -- 8%\n",
    "\n",
    "Choose two headlines from the validation set, and find their embeddings.\n",
    "We will **interpolate** between the two embeddings like we did in the example presented in class for training autoencoders on MNIST.\n",
    "\n",
    "Find 3 points, equally spaced between the embeddings of your headlines.\n",
    "If we let $e_0$ be the embedding of your first headline and $e_4$ be\n",
    "the embedding of your second headline, your three points should be:\n",
    "\n",
    "\\begin{align*}\n",
    "e_1 &=  0.75 e_0 + 0.25 e_4 \\\\\n",
    "e_2 &=  0.50 e_0 + 0.50 e_4 \\\\\n",
    "e_3 &=  0.25 e_0 + 0.75 e_4 \\\\\n",
    "\\end{align*}\n",
    "\n",
    "Decode each of $e_1$, $e_2$ and $e_3$ five times, with a temperature setting\n",
    "that shows some variation in the generated sequences. Try to get a logical and cool sentence (this might be hard)."
   ]
  },
  {
   "cell_type": "code",
   "execution_count": 222,
   "metadata": {
    "colab": {
     "base_uri": "https://localhost:8080/"
    },
    "id": "7SYa3PNc4KUW",
    "outputId": "f3ffbac4-5e97-4e84-f0cb-d56189e11303"
   },
   "outputs": [
    {
     "name": "stdout",
     "output_type": "stream",
     "text": [
      "\u001b[1m\u001b[4minput e1:\u001b[0m\u001b[0m\n",
      "temp 1.5:\n",
      "\u001b[1m1)\u001b[0m ['asia', 'utah', 'april', 'month/month', 'fall', '<unk>', 'third', 'field', 'due', 'to', 'oct']\n",
      "\u001b[1m2)\u001b[0m ['asia', 'takes', 'three', 'profit', 'from', 'week', 'russian', 'incentive', 'asia', 'to', 'rees-mogg', 'half']\n",
      "\u001b[1m3)\u001b[0m ['markets', 'billion-dollar', 'to', 'over', '%', 'prices', 'media', 'crossing', 'oil', 'shares', 'funding']\n",
      "\u001b[1m4)\u001b[0m ['virus', \"'s\", 'bankruptcy', 'bet', 'in', 'risk', 'three', 'new', 'retailing', 'up', 'dips']\n",
      "\u001b[1m5)\u001b[0m ['asia', 'takes', 'than', 'america', 'from', 'first', 'cash', 'heads', 'time', 'deal', 'stocks-tsx']\n",
      "=============================\n",
      "\u001b[1m\u001b[4minput e2:\u001b[0m\u001b[0m\n",
      "temp 1.5:\n",
      "\u001b[1m1)\u001b[0m ['vietnam', 'sell', 'after', '_num_-1/2-month', 'in', '_num_', 'activity', '3rd', '<unk>', 'still', 'oct']\n",
      "\u001b[1m2)\u001b[0m ['more', 'test', 'slump', 'cleanup', 'fall', 'general', \"'s\", 'slowing', 'capital', 'one-year', 'wall']\n",
      "\u001b[1m3)\u001b[0m ['indian', 'monthly', ':', 'in', 'curbs', 'profit', 'big', 'kenya', '-sources', 'offsets', 'stocks']\n",
      "\u001b[1m4)\u001b[0m [',', 'iphone', 'ghosn', 'surge', 'since', 'against', 'reuters', 'may', 'weekend', 'since', 'shift']\n",
      "\u001b[1m5)\u001b[0m ['second', 'markets-stocks', 'orders', 'coast', 'below', 'drone', 'south', 'sector', 'financing', 'iran', 'prices']\n",
      "=============================\n",
      "\u001b[1m\u001b[4minput e3:\u001b[0m\u001b[0m\n",
      "temp 1.5:\n",
      "\u001b[1m1)\u001b[0m ['indian', 'markets-forint', 'sales', 'job', 'on', 'dubai', 'due', 'five', 'hopes', 'pmis', 'of', 'hovers']\n",
      "\u001b[1m2)\u001b[0m ['indian', 'income', 'weakening', '_num_', 'in', 'in', 'reuters', 'despite', 'hopes', 'up', 'value']\n",
      "\u001b[1m3)\u001b[0m ['indian', 'impacted', 'growth', 't20', 'in', 'revenues', ':', 'commodities', 'than', 'weak', '.']\n",
      "\u001b[1m4)\u001b[0m ['indian', 'impacted', 'purchase', 'in', 'year', 'fall', '_num_-month', '<pad>', 'interest', \"'s\", 'this', 'steep']\n",
      "\u001b[1m5)\u001b[0m ['indian', 'stocks', 'products', 'game', 'after', 'due', 'about', 'factory', '<pad>', 'fy', 'as']\n",
      "=============================\n"
     ]
    }
   ],
   "source": [
    "# Write your code here. Include your generated sequences.\n",
    "headlines = [valid_data[13].title,valid_data[17].title]\n",
    "input_seqs = [torch.Tensor([vocab.stoi[w] for w in headlines[0]]).unsqueeze(0).long(),\n",
    "             torch.Tensor([vocab.stoi[w] for w in headlines[1]]).unsqueeze(0).long()]\n",
    "e = [model.encode(input_seqs[0]).detach(),\n",
    "            model.encode(input_seqs[1]).detach()]\n",
    "\n",
    "# print(make_bold(make_underline(\"input e\"+str(i+1)+\":\")))\n",
    "\n",
    "e1 = 0.75*e[0]+0.25*e[1]\n",
    "e2 = 0.5*e[0]+0.5*e[1]\n",
    "e3 = 0.25*e[0]+0.75*e[1]  \n",
    "\n",
    "encs=[e1,e2,e3]\n",
    "temp=1.5\n",
    "for i,enc in enumerate(encs):\n",
    "  print(make_bold(make_underline(\"input e\"+str(i+1)+\":\")))\n",
    "  print(\"temp \"+str(temp)+\":\")\n",
    "  for i in range(5):\n",
    "    print(make_bold(str(i+1)+\")\"),sample_sequence(model,enc,temperature=temp))\n",
    "  print(\"=============================\")\n"
   ]
  }
 ],
 "metadata": {
  "accelerator": "GPU",
  "colab": {
   "collapsed_sections": [],
   "name": "Assignment4.ipynb",
   "provenance": [],
   "toc_visible": true
  },
  "kernelspec": {
   "display_name": "Python 3",
   "language": "python",
   "name": "python3"
  },
  "language_info": {
   "codemirror_mode": {
    "name": "ipython",
    "version": 3
   },
   "file_extension": ".py",
   "mimetype": "text/x-python",
   "name": "python",
   "nbconvert_exporter": "python",
   "pygments_lexer": "ipython3",
   "version": "3.8.5"
  }
 },
 "nbformat": 4,
 "nbformat_minor": 1
}
