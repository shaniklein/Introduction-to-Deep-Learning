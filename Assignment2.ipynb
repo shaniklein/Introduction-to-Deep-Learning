{
  "nbformat": 4,
  "nbformat_minor": 0,
  "metadata": {
    "colab": {
      "name": "Assignment2.ipynb",
      "provenance": [],
      "collapsed_sections": [],
      "include_colab_link": true
    },
    "language_info": {
      "name": "python"
    },
    "kernelspec": {
      "name": "python3",
      "display_name": "Python 3"
    }
  },
  "cells": [
    {
      "cell_type": "markdown",
      "metadata": {
        "id": "view-in-github",
        "colab_type": "text"
      },
      "source": [
        "<a href=\"https://colab.research.google.com/github/shaniklein/Introduction-to-Deep-Learning/blob/main/Assignment2.ipynb\" target=\"_parent\"><img src=\"https://colab.research.google.com/assets/colab-badge.svg\" alt=\"Open In Colab\"/></a>"
      ]
    },
    {
      "cell_type": "markdown",
      "metadata": {
        "id": "Cx3i2Op-6X5n"
      },
      "source": [
        "# Assignment 2: Word Prediction\n",
        "\n",
        "**Deadline**: Sunday, April 18th, by 9pm.\n",
        "\n",
        "**Submission**: Submit a PDF export of the completed notebook as well as the ipynb file. \n",
        "\n",
        " \n",
        "\n",
        "In this assignment, we will make a neural network that can predict the next word\n",
        "in a sentence given the previous three.  \n",
        "In doing this prediction task, our neural networks will learn about *words* and about\n",
        "how to represent words. We'll explore the *vector representations* of words that our\n",
        "model produces, and analyze these representations.\n",
        "\n",
        "You may modify the starter code as you see fit, including changing the signatures of functions and adding/removing helper functions. However, please make sure that you properly explain what you are doing and why."
      ]
    },
    {
      "cell_type": "code",
      "metadata": {
        "id": "2zdEvcdO6X5s"
      },
      "source": [
        "import pandas as pd\n",
        "import numpy as np\n",
        "import matplotlib.pyplot as plt\n",
        "import collections\n",
        "\n",
        "import torch\n",
        "import torch.nn as nn\n",
        "import torch.nn.functional as F\n",
        "\n",
        "import torch.optim as optim\n",
        "\n",
        "from collections import Counter\n"
      ],
      "execution_count": 1,
      "outputs": []
    },
    {
      "cell_type": "code",
      "metadata": {
        "id": "bkCcVfT_ZRL_"
      },
      "source": [
        "# helper class to print nice outputs\n",
        "class txt:\n",
        "   BOLD = '\\033[1m'\n",
        "   UNDERLINE = '\\033[4m'\n",
        "   END = '\\033[0m'\n",
        "\n",
        "def make_bold(text):\n",
        "    return txt.BOLD+ text + txt.END\n",
        "\n",
        "def make_underline(text):\n",
        "    return txt.UNDERLINE+ text + txt.END"
      ],
      "execution_count": 2,
      "outputs": []
    },
    {
      "cell_type": "markdown",
      "metadata": {
        "id": "sQYtUQTH6X5t"
      },
      "source": [
        "## Question 1. Data (15%)\n",
        "\n",
        "With any machine learning problem, the first thing that we would want to do\n",
        "is to get an intuitive understanding of what our data looks like. Download the file\n",
        "`raw_sentences.txt` from the course page on Moodle and upload it to Google Drive.\n",
        "Then, mount Google Drive from your Google Colab notebook:"
      ]
    },
    {
      "cell_type": "code",
      "metadata": {
        "id": "9eWXHhCe6X5t",
        "colab": {
          "base_uri": "https://localhost:8080/"
        },
        "outputId": "393203ce-aaab-472c-aca7-6ad49208d87b"
      },
      "source": [
        "from google.colab import drive\n",
        "drive.mount('/content/gdrive')"
      ],
      "execution_count": 3,
      "outputs": [
        {
          "output_type": "stream",
          "text": [
            "Drive already mounted at /content/gdrive; to attempt to forcibly remount, call drive.mount(\"/content/gdrive\", force_remount=True).\n"
          ],
          "name": "stdout"
        }
      ]
    },
    {
      "cell_type": "markdown",
      "metadata": {
        "id": "Hteg6bwv6X5t"
      },
      "source": [
        "Find the path to `raw_sentences.txt`:"
      ]
    },
    {
      "cell_type": "code",
      "metadata": {
        "id": "ALMsGfFi6X5u"
      },
      "source": [
        "file_path = '/content/gdrive/My Drive/Intro_to_Deep_Learning/assignment2/raw_sentences.txt' # TODO - UPDATE ME!"
      ],
      "execution_count": 4,
      "outputs": []
    },
    {
      "cell_type": "markdown",
      "metadata": {
        "id": "PD5uXTle6X5u"
      },
      "source": [
        "The following code reads the sentences in our file, split each sentence into\n",
        "its individual words, and stores the sentences (list of words) in the\n",
        "variable `sentences`."
      ]
    },
    {
      "cell_type": "code",
      "metadata": {
        "id": "75NXJO_T6X5v"
      },
      "source": [
        "sentences = []\n",
        "for line in open(file_path):\n",
        "    words = line.split()\n",
        "    sentence = [word.lower() for word in words]\n",
        "    sentences.append(sentence)"
      ],
      "execution_count": 5,
      "outputs": []
    },
    {
      "cell_type": "markdown",
      "metadata": {
        "id": "nbP0-e_U6X5v"
      },
      "source": [
        "There are 97,162 sentences in total, and \n",
        "these sentences are composed of 250 distinct words."
      ]
    },
    {
      "cell_type": "code",
      "metadata": {
        "id": "OLUp8rZT6X5v",
        "colab": {
          "base_uri": "https://localhost:8080/"
        },
        "outputId": "004b4fb7-36b2-4aaf-8b92-018299e3f339"
      },
      "source": [
        "vocab = set([w for s in sentences for w in s])\n",
        "print(len(sentences)) # 97162\n",
        "print(len(vocab)) # 250"
      ],
      "execution_count": 6,
      "outputs": [
        {
          "output_type": "stream",
          "text": [
            "97162\n",
            "250\n"
          ],
          "name": "stdout"
        }
      ]
    },
    {
      "cell_type": "markdown",
      "metadata": {
        "id": "KB77tJrU6X5v"
      },
      "source": [
        "We'll separate our data into training, validation, and test.\n",
        "We'll use `10,000 sentences for test, 10,000 for validation, and\n",
        "the rest for training."
      ]
    },
    {
      "cell_type": "code",
      "metadata": {
        "id": "xJQRB6RJ6X5v"
      },
      "source": [
        "test, valid, train = sentences[:10000], sentences[10000:20000], sentences[20000:]"
      ],
      "execution_count": 7,
      "outputs": []
    },
    {
      "cell_type": "markdown",
      "metadata": {
        "id": "aUj7fsi06X5v"
      },
      "source": [
        "### Part (a) -- 2%\n",
        "\n",
        "**Display** 10 sentences in the training set.\n",
        "**Explain** how punctuations are treated in our word representation, and how words\n",
        "with apostrophes are represented."
      ]
    },
    {
      "cell_type": "code",
      "metadata": {
        "id": "90AmLcpF6X5w",
        "colab": {
          "base_uri": "https://localhost:8080/"
        },
        "outputId": "6bb13d7a-2b8e-47c6-d410-28bd2a7a1521"
      },
      "source": [
        "for i,sent in enumerate(train[10:20]):\n",
        "  print(str(i+1)+\".\", \" \".join(sent))"
      ],
      "execution_count": 8,
      "outputs": [
        {
          "output_type": "stream",
          "text": [
            "1. but for me , now , this is it .\n",
            "2. she 's still there for us .\n",
            "3. it 's part of this game , man .\n",
            "4. it was : how do we get there ?\n",
            "5. but they do nt last too long .\n",
            "6. more are like me , she said .\n",
            "7. who do you think they want to be like ?\n",
            "8. no , he could not .\n",
            "9. so i left it up to them .\n",
            "10. we were nt right .\n"
          ],
          "name": "stdout"
        }
      ]
    },
    {
      "cell_type": "markdown",
      "metadata": {
        "id": "swyMJHYN-Taa"
      },
      "source": [
        "We can tell that puncuations such as dot or a comma is treated as a word by itself .\n",
        "When looking at sentence number 2 for example we observe that words with apostrophes are represented as 2 different words: the prefix of the ord and the apostrophes ."
      ]
    },
    {
      "cell_type": "markdown",
      "metadata": {
        "id": "R2erKpOJ6X5w"
      },
      "source": [
        "\n",
        "### Part (b) -- 3%\n",
        "\n",
        "**Print** the 10 most common words in the vocabulary and how often does each of these\n",
        "words appear in the training sentences. Express the second quantity as a percentage\n",
        "(i.e. number of occurences of the  word / total number of words in the training set).\n",
        "\n",
        "These are useful quantities to compute, because one of the first things a machine learning model will learn is to predict the **most common** class. Getting a sense of the\n",
        "distribution of our data will help you understand our model's behaviour.\n",
        "\n",
        "You can use Python's `collections.Counter` class if you would like to."
      ]
    },
    {
      "cell_type": "code",
      "metadata": {
        "id": "pqSZO_a36X5w",
        "colab": {
          "base_uri": "https://localhost:8080/",
          "height": 370
        },
        "outputId": "7d241a96-109c-4a90-ed92-70c1b4ff7974"
      },
      "source": [
        "train_words=[]\n",
        "for sentence in train:\n",
        "  for word in sentence:\n",
        "    train_words.append(word)\n",
        "\n",
        "print(make_bold(\"10 most common words in the vocabulary:\"))\n",
        "c=Counter(train_words)\n",
        "freq=c.most_common(10)\n",
        "df=pd.DataFrame(freq,columns=['word','num of occ'])\n",
        "df['precentege']=(df['num of occ']/len(train_words))*100\n",
        "df"
      ],
      "execution_count": 9,
      "outputs": [
        {
          "output_type": "stream",
          "text": [
            "\u001b[1m10 most common words in the vocabulary:\u001b[0m\n"
          ],
          "name": "stdout"
        },
        {
          "output_type": "execute_result",
          "data": {
            "text/html": [
              "<div>\n",
              "<style scoped>\n",
              "    .dataframe tbody tr th:only-of-type {\n",
              "        vertical-align: middle;\n",
              "    }\n",
              "\n",
              "    .dataframe tbody tr th {\n",
              "        vertical-align: top;\n",
              "    }\n",
              "\n",
              "    .dataframe thead th {\n",
              "        text-align: right;\n",
              "    }\n",
              "</style>\n",
              "<table border=\"1\" class=\"dataframe\">\n",
              "  <thead>\n",
              "    <tr style=\"text-align: right;\">\n",
              "      <th></th>\n",
              "      <th>word</th>\n",
              "      <th>num of occ</th>\n",
              "      <th>precentege</th>\n",
              "    </tr>\n",
              "  </thead>\n",
              "  <tbody>\n",
              "    <tr>\n",
              "      <th>0</th>\n",
              "      <td>.</td>\n",
              "      <td>64297</td>\n",
              "      <td>10.695720</td>\n",
              "    </tr>\n",
              "    <tr>\n",
              "      <th>1</th>\n",
              "      <td>it</td>\n",
              "      <td>23118</td>\n",
              "      <td>3.845648</td>\n",
              "    </tr>\n",
              "    <tr>\n",
              "      <th>2</th>\n",
              "      <td>,</td>\n",
              "      <td>19537</td>\n",
              "      <td>3.249954</td>\n",
              "    </tr>\n",
              "    <tr>\n",
              "      <th>3</th>\n",
              "      <td>i</td>\n",
              "      <td>17684</td>\n",
              "      <td>2.941710</td>\n",
              "    </tr>\n",
              "    <tr>\n",
              "      <th>4</th>\n",
              "      <td>do</td>\n",
              "      <td>16181</td>\n",
              "      <td>2.691688</td>\n",
              "    </tr>\n",
              "    <tr>\n",
              "      <th>5</th>\n",
              "      <td>to</td>\n",
              "      <td>15490</td>\n",
              "      <td>2.576741</td>\n",
              "    </tr>\n",
              "    <tr>\n",
              "      <th>6</th>\n",
              "      <td>nt</td>\n",
              "      <td>13009</td>\n",
              "      <td>2.164030</td>\n",
              "    </tr>\n",
              "    <tr>\n",
              "      <th>7</th>\n",
              "      <td>?</td>\n",
              "      <td>12881</td>\n",
              "      <td>2.142737</td>\n",
              "    </tr>\n",
              "    <tr>\n",
              "      <th>8</th>\n",
              "      <td>the</td>\n",
              "      <td>12583</td>\n",
              "      <td>2.093165</td>\n",
              "    </tr>\n",
              "    <tr>\n",
              "      <th>9</th>\n",
              "      <td>'s</td>\n",
              "      <td>12552</td>\n",
              "      <td>2.088008</td>\n",
              "    </tr>\n",
              "  </tbody>\n",
              "</table>\n",
              "</div>"
            ],
            "text/plain": [
              "  word  num of occ  precentege\n",
              "0    .       64297   10.695720\n",
              "1   it       23118    3.845648\n",
              "2    ,       19537    3.249954\n",
              "3    i       17684    2.941710\n",
              "4   do       16181    2.691688\n",
              "5   to       15490    2.576741\n",
              "6   nt       13009    2.164030\n",
              "7    ?       12881    2.142737\n",
              "8  the       12583    2.093165\n",
              "9   's       12552    2.088008"
            ]
          },
          "metadata": {
            "tags": []
          },
          "execution_count": 9
        }
      ]
    },
    {
      "cell_type": "code",
      "metadata": {
        "colab": {
          "base_uri": "https://localhost:8080/",
          "height": 312
        },
        "id": "fUwtcikXZAcG",
        "outputId": "f28dab3b-2d8b-402e-8222-20d63bd5d014"
      },
      "source": [
        "ax=df.plot.bar(x='word', y='precentege', rot=0)\n",
        "ax.set_title(\"10 most common words precentege\")"
      ],
      "execution_count": 10,
      "outputs": [
        {
          "output_type": "execute_result",
          "data": {
            "text/plain": [
              "Text(0.5, 1.0, '10 most common words precentege')"
            ]
          },
          "metadata": {
            "tags": []
          },
          "execution_count": 10
        },
        {
          "output_type": "display_data",
          "data": {
            "image/png": "[encoded data removed]",
            "text/plain": [
              "<Figure size 432x288 with 1 Axes>"
            ]
          },
          "metadata": {
            "tags": [],
            "needs_background": "light"
          }
        }
      ]
    },
    {
      "cell_type": "code",
      "metadata": {
        "colab": {
          "base_uri": "https://localhost:8080/",
          "height": 312
        },
        "id": "rG6N4P5bZ3O6",
        "outputId": "a1c09fbc-d085-4c6c-b2f0-d3aa8d3e816b"
      },
      "source": [
        "ax=df.plot.bar(x='word', y='num of occ', rot=0)\n",
        "ax.set_title(\"10 most common words count\")"
      ],
      "execution_count": 11,
      "outputs": [
        {
          "output_type": "execute_result",
          "data": {
            "text/plain": [
              "Text(0.5, 1.0, '10 most common words count')"
            ]
          },
          "metadata": {
            "tags": []
          },
          "execution_count": 11
        },
        {
          "output_type": "display_data",
          "data": {
            "image/png": "[encoded data removed]",
            "text/plain": [
              "<Figure size 432x288 with 1 Axes>"
            ]
          },
          "metadata": {
            "tags": [],
            "needs_background": "light"
          }
        }
      ]
    },
    {
      "cell_type": "markdown",
      "metadata": {
        "id": "ZczdQDKyaAeA"
      },
      "source": [
        "That distribution is reasonable because each sentene is finished with dot or question mark for example.\n",
        "\n",
        "\n"
      ]
    },
    {
      "cell_type": "markdown",
      "metadata": {
        "id": "5H94NkFiaj22"
      },
      "source": [
        "Let's check words distribution without puncuation"
      ]
    },
    {
      "cell_type": "code",
      "metadata": {
        "colab": {
          "base_uri": "https://localhost:8080/",
          "height": 370
        },
        "id": "At1atMmpalFF",
        "outputId": "dd9fd4b2-1a1d-4ef4-c306-64d7ba4d5796"
      },
      "source": [
        "import string\n",
        "print(make_bold(\"10 most common words in  vocabulary without puncuation:\"))\n",
        "c=Counter([w for w in train_words if w not in string.punctuation])\n",
        "freq=c.most_common(10)\n",
        "df=pd.DataFrame(freq,columns=['word','num of occ'])\n",
        "df['precentege']=(df['num of occ']/len(train_words))*100\n",
        "df"
      ],
      "execution_count": 12,
      "outputs": [
        {
          "output_type": "stream",
          "text": [
            "\u001b[1m10 most common words in  vocabulary without puncuation:\u001b[0m\n"
          ],
          "name": "stdout"
        },
        {
          "output_type": "execute_result",
          "data": {
            "text/html": [
              "<div>\n",
              "<style scoped>\n",
              "    .dataframe tbody tr th:only-of-type {\n",
              "        vertical-align: middle;\n",
              "    }\n",
              "\n",
              "    .dataframe tbody tr th {\n",
              "        vertical-align: top;\n",
              "    }\n",
              "\n",
              "    .dataframe thead th {\n",
              "        text-align: right;\n",
              "    }\n",
              "</style>\n",
              "<table border=\"1\" class=\"dataframe\">\n",
              "  <thead>\n",
              "    <tr style=\"text-align: right;\">\n",
              "      <th></th>\n",
              "      <th>word</th>\n",
              "      <th>num of occ</th>\n",
              "      <th>precentege</th>\n",
              "    </tr>\n",
              "  </thead>\n",
              "  <tbody>\n",
              "    <tr>\n",
              "      <th>0</th>\n",
              "      <td>it</td>\n",
              "      <td>23118</td>\n",
              "      <td>3.845648</td>\n",
              "    </tr>\n",
              "    <tr>\n",
              "      <th>1</th>\n",
              "      <td>i</td>\n",
              "      <td>17684</td>\n",
              "      <td>2.941710</td>\n",
              "    </tr>\n",
              "    <tr>\n",
              "      <th>2</th>\n",
              "      <td>do</td>\n",
              "      <td>16181</td>\n",
              "      <td>2.691688</td>\n",
              "    </tr>\n",
              "    <tr>\n",
              "      <th>3</th>\n",
              "      <td>to</td>\n",
              "      <td>15490</td>\n",
              "      <td>2.576741</td>\n",
              "    </tr>\n",
              "    <tr>\n",
              "      <th>4</th>\n",
              "      <td>nt</td>\n",
              "      <td>13009</td>\n",
              "      <td>2.164030</td>\n",
              "    </tr>\n",
              "    <tr>\n",
              "      <th>5</th>\n",
              "      <td>the</td>\n",
              "      <td>12583</td>\n",
              "      <td>2.093165</td>\n",
              "    </tr>\n",
              "    <tr>\n",
              "      <th>6</th>\n",
              "      <td>'s</td>\n",
              "      <td>12552</td>\n",
              "      <td>2.088008</td>\n",
              "    </tr>\n",
              "    <tr>\n",
              "      <th>7</th>\n",
              "      <td>that</td>\n",
              "      <td>12535</td>\n",
              "      <td>2.085180</td>\n",
              "    </tr>\n",
              "    <tr>\n",
              "      <th>8</th>\n",
              "      <td>he</td>\n",
              "      <td>12192</td>\n",
              "      <td>2.028123</td>\n",
              "    </tr>\n",
              "    <tr>\n",
              "      <th>9</th>\n",
              "      <td>you</td>\n",
              "      <td>10166</td>\n",
              "      <td>1.691101</td>\n",
              "    </tr>\n",
              "  </tbody>\n",
              "</table>\n",
              "</div>"
            ],
            "text/plain": [
              "   word  num of occ  precentege\n",
              "0    it       23118    3.845648\n",
              "1     i       17684    2.941710\n",
              "2    do       16181    2.691688\n",
              "3    to       15490    2.576741\n",
              "4    nt       13009    2.164030\n",
              "5   the       12583    2.093165\n",
              "6    's       12552    2.088008\n",
              "7  that       12535    2.085180\n",
              "8    he       12192    2.028123\n",
              "9   you       10166    1.691101"
            ]
          },
          "metadata": {
            "tags": []
          },
          "execution_count": 12
        }
      ]
    },
    {
      "cell_type": "code",
      "metadata": {
        "colab": {
          "base_uri": "https://localhost:8080/",
          "height": 312
        },
        "id": "pyww0slsbZHN",
        "outputId": "75513cab-c494-463f-c7f9-1fc7c1a63015"
      },
      "source": [
        "ax=df.plot.bar(x='word', y='precentege', rot=0)\n",
        "ax.set_title(\"10 most common words precentege\")"
      ],
      "execution_count": 13,
      "outputs": [
        {
          "output_type": "execute_result",
          "data": {
            "text/plain": [
              "Text(0.5, 1.0, '10 most common words precentege')"
            ]
          },
          "metadata": {
            "tags": []
          },
          "execution_count": 13
        },
        {
          "output_type": "display_data",
          "data": {
            "image/png": "[encoded data removed]",
            "text/plain": [
              "<Figure size 432x288 with 1 Axes>"
            ]
          },
          "metadata": {
            "tags": [],
            "needs_background": "light"
          }
        }
      ]
    },
    {
      "cell_type": "code",
      "metadata": {
        "colab": {
          "base_uri": "https://localhost:8080/",
          "height": 312
        },
        "id": "Rj5EuNMzbbsz",
        "outputId": "02ff3e68-6000-43f8-cd76-cfe8e14c78e5"
      },
      "source": [
        "ax=df.plot.bar(x='word', y='num of occ', rot=0)\n",
        "ax.set_title(\"10 most common words count\")"
      ],
      "execution_count": 14,
      "outputs": [
        {
          "output_type": "execute_result",
          "data": {
            "text/plain": [
              "Text(0.5, 1.0, '10 most common words count')"
            ]
          },
          "metadata": {
            "tags": []
          },
          "execution_count": 14
        },
        {
          "output_type": "display_data",
          "data": {
            "image/png": "[encoded data removed]",
            "text/plain": [
              "<Figure size 432x288 with 1 Axes>"
            ]
          },
          "metadata": {
            "tags": [],
            "needs_background": "light"
          }
        }
      ]
    },
    {
      "cell_type": "markdown",
      "metadata": {
        "id": "j4CHlVRI6X5w"
      },
      "source": [
        "### Part (c) -- 10%\n",
        "\n",
        "Our neural network will take as input three words and predict the next one. Therefore, we need our data set to be comprised of seuqnces of four consecutive words in a sentence, referred to as *4grams*. \n",
        "\n",
        "**Complete** the helper functions `convert_words_to_indices` and\n",
        "`generate_4grams`, so that the function `process_data` will take a \n",
        "list of sentences (i.e. list of list of words), and generate an \n",
        "$N \\times 4$ numpy matrix containing indices of 4 words that appear\n",
        "next to each other, where $N$ is the number of 4grams (sequences of 4 words appearing one after the other) that can be found in the complete list of sentences. Examples of how these functions should operate are detailed in the code below. \n",
        "\n",
        "You can use the defined `vocab`, `vocab_itos`,\n",
        "and `vocab_stoi` in your code."
      ]
    },
    {
      "cell_type": "code",
      "metadata": {
        "id": "TPQ9bZR4safN"
      },
      "source": [
        "# A list of all the words in the data set. We will assign a unique \n",
        "# identifier for each of these words.\n",
        "vocab = sorted(list(set([w for s in train for w in s])))\n",
        "# A mapping of index => word (string)\n",
        "vocab_itos = dict(enumerate(vocab))\n",
        "# A mapping of word => its index\n",
        "vocab_stoi = {word:index for index, word in vocab_itos.items()}\n",
        "\n",
        "def convert_words_to_indices(sents):\n",
        "    \"\"\"\n",
        "    This function takes a list of sentences (list of list of words)\n",
        "    and returns a new list with the same structure, but where each word\n",
        "    is replaced by its index in `vocab_stoi`.\n",
        "\n",
        "    Example:\n",
        "    >>> convert_words_to_indices([['one', 'in', 'five', 'are', 'over', 'here'], ['other', 'one', 'since', 'yesterday'], ['you']])\n",
        "    [[148, 98, 70, 23, 154, 89], [151, 148, 181, 246], [248]]\n",
        "    \"\"\"\n",
        "    new_sents=[]\n",
        "    for s in sents:\n",
        "      new_sents.append([vocab_stoi[w] for w in s])\n",
        "    return new_sents\n",
        "\n",
        "def generate_4grams(seqs):\n",
        "    \"\"\"\n",
        "    This function takes a list of sentences (list of lists) and returns\n",
        "    a new list containing the 4-grams (four consequentively occuring words)\n",
        "    that appear in the sentences. Note that a unique 4-gram can appear multiple\n",
        "    times, one per each time that the 4-gram appears in the data parameter `seqs`.\n",
        "\n",
        "    Example:\n",
        "\n",
        "    >>> generate_4grams([[148, 98, 70, 23, 154, 89], [151, 148, 181, 246], [248]])\n",
        "    [[148, 98, 70, 23], [98, 70, 23, 154], [70, 23, 154, 89], [151, 148, 181, 246]]\n",
        "    >>> generate_4grams([[1, 1, 1, 1, 1]])\n",
        "    [[1, 1, 1, 1], [1, 1, 1, 1]]\n",
        "    \"\"\"\n",
        "    four_grams=[]\n",
        "    for seq in seqs:\n",
        "      if (len(seq)<4):\n",
        "        continue\n",
        "      \n",
        "      start=0\n",
        "      end=len(seq)\n",
        "\n",
        "      while(start+4<=end):\n",
        "        four_grams.append(seq[start:start+4])\n",
        "        start+=1\n",
        "    return four_grams\n",
        "\n",
        "def process_data(sents):\n",
        "    \"\"\"\n",
        "    This function takes a list of sentences (list of lists), and generates an\n",
        "    numpy matrix with shape [N, 4] containing indices of words in 4-grams.\n",
        "    \"\"\"\n",
        "    indices = convert_words_to_indices(sents)\n",
        "    fourgrams = generate_4grams(indices)\n",
        "    return np.array(fourgrams)\n",
        "\n",
        "# We can now generate our data which will be used to train and test the network\n",
        "train4grams = process_data(train)\n",
        "valid4grams = process_data(valid)\n",
        "test4grams = process_data(test)"
      ],
      "execution_count": 15,
      "outputs": []
    },
    {
      "cell_type": "code",
      "metadata": {
        "id": "sOWlJQIHt9k8",
        "colab": {
          "base_uri": "https://localhost:8080/"
        },
        "outputId": "1229f7dc-f623-49c2-d0ee-04336769621c"
      },
      "source": [
        "convert_words_to_indices([['one', 'in', 'five', 'are', 'over', 'here'], ['other', 'one', 'since', 'yesterday'], ['you']])\n",
        "# assert : [[148, 98, 70, 23, 154, 89], [151, 148, 181, 246], [248]]"
      ],
      "execution_count": 16,
      "outputs": [
        {
          "output_type": "execute_result",
          "data": {
            "text/plain": [
              "[[148, 98, 70, 23, 154, 89], [151, 148, 181, 246], [248]]"
            ]
          },
          "metadata": {
            "tags": []
          },
          "execution_count": 16
        }
      ]
    },
    {
      "cell_type": "code",
      "metadata": {
        "id": "IUZsxdHk6X5w",
        "colab": {
          "base_uri": "https://localhost:8080/"
        },
        "outputId": "a5d12c63-52fc-4962-8a64-3088983530fb"
      },
      "source": [
        "generate_4grams([[148, 98, 70, 23, 154, 89], [151, 148, 181, 246], [248]])\n",
        "#   [[148, 98, 70, 23], [98, 70, 23, 154], [70, 23, 154, 89], [151, 148, 181, 246]]"
      ],
      "execution_count": 17,
      "outputs": [
        {
          "output_type": "execute_result",
          "data": {
            "text/plain": [
              "[[148, 98, 70, 23], [98, 70, 23, 154], [70, 23, 154, 89], [151, 148, 181, 246]]"
            ]
          },
          "metadata": {
            "tags": []
          },
          "execution_count": 17
        }
      ]
    },
    {
      "cell_type": "code",
      "metadata": {
        "id": "C1EVn7YcwTKv",
        "colab": {
          "base_uri": "https://localhost:8080/"
        },
        "outputId": "70d101fd-695a-413b-b99a-2cb0eb0f949e"
      },
      "source": [
        " generate_4grams([[1, 1, 1, 1, 1]])\n",
        "  #  [[1, 1, 1, 1], [1, 1, 1, 1]]"
      ],
      "execution_count": 18,
      "outputs": [
        {
          "output_type": "execute_result",
          "data": {
            "text/plain": [
              "[[1, 1, 1, 1], [1, 1, 1, 1]]"
            ]
          },
          "metadata": {
            "tags": []
          },
          "execution_count": 18
        }
      ]
    },
    {
      "cell_type": "markdown",
      "metadata": {
        "id": "3Rv-6sNm6X5x"
      },
      "source": [
        "## Question 2. A Multi-Layer Perceptron (40%)\n",
        "\n",
        "In this section, we will build a two-layer multi-layer perceptron. \n",
        "Our model will look like this:\n",
        "\n",
        "<img src=\"https://drive.google.com/uc?id=15uMLB-YsMHSOr0EQfTRhWd4o9enIOjUe\">\n",
        "\n",
        "Since the sentences in the data are comprised of $250$ distinct words, our task boils down to claissfication where the label space $\\mathcal{S}$ is of cardinality $|\\mathcal{S}|=250$ while our input, which is comprised of a combination of three words, is treated as a vector of size $750\\times 1$ (i.e., the concatanation of three one-hot $250\\times 1$ vectors).\n",
        "\n",
        "The following function `get_batch` will take as input the whole dataset and output a single batch for the training. The output size of the batch is explained below.\n",
        "\n",
        "**Implement** yourself a function `make_onehot` which takes the data in index notation and output it in a onehot notation.\n",
        "\n",
        "Start by reviewing the helper function, which is given to you:"
      ]
    },
    {
      "cell_type": "code",
      "metadata": {
        "id": "ZsqTLOoJ6X5x"
      },
      "source": [
        "def make_onehot(data):\n",
        "    \n",
        "    \"\"\"\n",
        "    Convert one batch of data in the index notation into its corresponding onehot\n",
        "    notation. Remember, the function should work for both xt and st. \n",
        "    input - vector with shape D (1D or 2D)\n",
        "    output - vector with shape (D,250)\n",
        "    \"\"\"\n",
        "\n",
        "    output=[]\n",
        "    # we go through all the batch \n",
        "    for line in data:\n",
        "      # deal with 1D dimention to use same code as 2D\n",
        "      if data.ndim==1:\n",
        "        line=[line]\n",
        "\n",
        "      # First we want to each line make a 250 dimension vector of zeros\n",
        "      one_hot_line=np.zeros((len(line),250))\n",
        "      for i,d in enumerate(line):\n",
        "        # to make one_hot we only put 1 in the word index\n",
        "        one_hot_line[i][d]=1\n",
        "      \n",
        "      # add one_hot_line to the entire one hot encoding\n",
        "      output.append(one_hot_line)\n",
        "\n",
        "    return np.array(output)\n",
        "     \n",
        "\n",
        "def get_batch(data, range_min, range_max, onehot=True):\n",
        "    \"\"\"\n",
        "    Convert one batch of data in the form of 4-grams into input and output\n",
        "    data and return the training data (xt, st) where:\n",
        "     - `xt` is an numpy array of one-hot vectors of shape [batch_size, 3, 250]\n",
        "     - `st` is either\n",
        "            - a numpy array of shape [batch_size, 250] if onehot is True,\n",
        "            - a numpy array of shape [batch_size] containing indicies otherwise\n",
        "\n",
        "    Preconditions:\n",
        "     - `data` is a numpy array of shape [N, 4] produced by a call\n",
        "        to `process_data`\n",
        "     - range_max > range_min\n",
        "    \"\"\"\n",
        "    xt = data[range_min:range_max, :3]\n",
        "    xt = make_onehot(xt)\n",
        "    st = data[range_min:range_max, 3]\n",
        "    if onehot:\n",
        "        st = make_onehot(st).reshape(-1, 250)\n",
        "    return xt, st\n"
      ],
      "execution_count": 20,
      "outputs": []
    },
    {
      "cell_type": "markdown",
      "metadata": {
        "id": "qvLuZpH-6X52"
      },
      "source": [
        "### Part (a) -- 7%\n",
        "\n",
        "We build the model in PyTorch. Since PyTorch uses automatic\n",
        "differentiation, we only need to write the *forward pass* of our\n",
        "model. \n",
        "\n",
        "**Complete** the `forward` function below:"
      ]
    },
    {
      "cell_type": "code",
      "metadata": {
        "id": "iMzWMUB16X52"
      },
      "source": [
        "class PyTorchMLP(nn.Module):\n",
        "    def __init__(self, num_hidden=400):\n",
        "        super(PyTorchMLP, self).__init__()\n",
        "        self.layer1 = nn.Linear(750, num_hidden)\n",
        "        self.layer2 = nn.Linear(num_hidden, 250)\n",
        "        self.num_hidden = num_hidden\n",
        "\n",
        "  # We didn't use activation function between the layers because,as mention in the task, nn.CrossEntropyLoss() computes the softmax operation internally.\n",
        "    def forward(self, inp):\n",
        "        inp = inp.reshape([-1, 750])\n",
        "        return self.layer2(self.layer1(inp))\n"
      ],
      "execution_count": null,
      "outputs": []
    },
    {
      "cell_type": "markdown",
      "metadata": {
        "id": "114NF7If6X52"
      },
      "source": [
        "### Part (b) -- 10%\n",
        "\n",
        "We next  train the PyTorch model using the Adam optimizer and the cross entropy loss.\n",
        "\n",
        "**Complete** the function `run_pytorch_gradient_descent`, and use it to train your PyTorch MLP model.\n",
        "\n",
        "**Obtain** a training accuracy of at least 35% while changing only the hyperparameters of the train function.\n",
        "\n",
        "Plot the learning curve using the `plot_learning_curve` function provided\n",
        "to you, and include your plot in your PDF submission."
      ]
    },
    {
      "cell_type": "code",
      "metadata": {
        "id": "LY70vUCZ6X52"
      },
      "source": [
        "def estimate_accuracy_torch(model, data, batch_size=5000, max_N=100000):\n",
        "    \"\"\"\n",
        "    Estimate the accuracy of the model on the data. To reduce\n",
        "    computation time, use at most `max_N` elements of `data` to\n",
        "    produce the estimate.\n",
        "    \"\"\"\n",
        "    correct = 0\n",
        "    N = 0\n",
        "    for i in range(0, data.shape[0], batch_size):\n",
        "        # get a batch of data\n",
        "        xt, st = get_batch(data, i, i + batch_size, onehot=False)\n",
        "        \n",
        "        # forward pass prediction\n",
        "        y = model(torch.Tensor(xt))\n",
        "        y = y.detach().numpy() # convert the PyTorch tensor => numpy array\n",
        "        pred = np.argmax(y, axis=1)\n",
        "        correct += np.sum(pred == st)\n",
        "        N += st.shape[0]\n",
        "\n",
        "        if N > max_N:\n",
        "            break\n",
        "    return correct / N\n",
        "\n",
        "def run_pytorch_gradient_descent(model,\n",
        "                                 train_data=train4grams,\n",
        "                                 validation_data=valid4grams,\n",
        "                                 batch_size=100,\n",
        "                                 learning_rate=0.001,\n",
        "                                 weight_decay=0,\n",
        "                                 max_iters=1000,\n",
        "                                 checkpoint_path=None):\n",
        "    \"\"\"\n",
        "    Train the PyTorch model on the dataset `train_data`, reporting\n",
        "    the validation accuracy on `validation_data`, for `max_iters`\n",
        "    iteration.\n",
        "\n",
        "    If you want to **checkpoint** your model weights (i.e. save the\n",
        "    model weights to Google Drive), then the parameter\n",
        "    `checkpoint_path` should be a string path with `{}` to be replaced\n",
        "    by the iteration count:\n",
        "\n",
        "    For example, calling \n",
        "\n",
        "    >>> run_pytorch_gradient_descent(model, ...,\n",
        "            checkpoint_path = '/content/gdrive/My Drive/Intro_to_Deep_Learning/mlp/ckpt-{}.pk')\n",
        "\n",
        "    will save the model parameters in Google Drive every 500 iterations.\n",
        "    You will have to make sure that the path exists (i.e. you'll need to create\n",
        "    the folder Intro_to_Deep_Learning, mlp, etc...). Your Google Drive will be populated with files:\n",
        "\n",
        "    - /content/gdrive/My Drive/Intro_to_Deep_Learning/mlp/ckpt-500.pk\n",
        "    - /content/gdrive/My Drive/Intro_to_Deep_Learning/mlp/ckpt-1000.pk\n",
        "    - ...\n",
        "\n",
        "    To load the weights at a later time, you can run:\n",
        "\n",
        "    >>> model.load_state_dict(torch.load('/content/gdrive/My Drive/Intro_to_Deep_Learning/mlp/ckpt-500.pk'))\n",
        "\n",
        "    This function returns the training loss, and the training/validation accuracy,\n",
        "    which we can use to plot the learning curve.\n",
        "    \"\"\"\n",
        "    criterion = nn.CrossEntropyLoss()\n",
        "    optimizer = optim.Adam(model.parameters(),\n",
        "                           lr=learning_rate,\n",
        "                           weight_decay=weight_decay)\n",
        "\n",
        "    iters, losses = [], []\n",
        "    iters_sub, train_accs, val_accs  = [], [] ,[]\n",
        "\n",
        "    n = 0 # the number of iterations\n",
        "    while True:\n",
        "        for i in range(0, train_data.shape[0], batch_size):\n",
        "            if (i + batch_size) > train_data.shape[0]:\n",
        "                break\n",
        "\n",
        "            # get the input and targets of a minibatch\n",
        "            xt, st = get_batch(train_data, i, i + batch_size, onehot=False)\n",
        "\n",
        "            # convert from numpy arrays to PyTorch tensors\n",
        "            xt = torch.Tensor(xt)\n",
        "            st = torch.Tensor(st).long()\n",
        "            \n",
        "            zs = model.forward(xt)                 # compute prediction logit\n",
        "            loss = criterion(zs,st)                 # compute the total loss\n",
        "            loss.backward()                      # compute updates for each parameter\n",
        "            optimizer.step()                        # make the updates for each parameter\n",
        "            optimizer.zero_grad()                      # a clean up step for PyTorch\n",
        "\n",
        "\n",
        "            # save the current training information\n",
        "            iters.append(n)\n",
        "            losses.append(float(loss)/batch_size)  # compute *average* loss\n",
        "\n",
        "            if n % 500 == 0:\n",
        "                iters_sub.append(n)\n",
        "                train_cost = float(loss.detach().numpy())\n",
        "                train_acc = estimate_accuracy_torch(model, train_data)\n",
        "                train_accs.append(train_acc)\n",
        "                val_acc = estimate_accuracy_torch(model, validation_data)\n",
        "                val_accs.append(val_acc)\n",
        "                print(\"Iter %d. [Val Acc %.0f%%] [Train Acc %.0f%%, Loss %f]\" % (\n",
        "                      n, val_acc * 100, train_acc * 100, train_cost))\n",
        "\n",
        "                if (checkpoint_path is not None) and n > 0:\n",
        "                    torch.save(model.state_dict(), checkpoint_path.format(n))\n",
        "\n",
        "            # increment the iteration number\n",
        "            n += 1\n",
        "\n",
        "            if n > max_iters:\n",
        "                return iters, losses, iters_sub, train_accs, val_accs\n",
        "\n",
        "\n",
        "def plot_learning_curve(iters, losses, iters_sub, train_accs, val_accs):\n",
        "    \"\"\"\n",
        "    Plot the learning curve.\n",
        "    \"\"\"\n",
        "    plt.title(\"Learning Curve: Loss per Iteration\")\n",
        "    plt.plot(iters, losses, label=\"Train\")\n",
        "    plt.xlabel(\"Iterations\")\n",
        "    plt.ylabel(\"Loss\")\n",
        "    plt.show()\n",
        "\n",
        "    plt.title(\"Learning Curve: Accuracy per Iteration\")\n",
        "    plt.plot(iters_sub, train_accs, label=\"Train\")\n",
        "    plt.plot(iters_sub, val_accs, label=\"Validation\")\n",
        "    plt.xlabel(\"Iterations\")\n",
        "    plt.ylabel(\"Accuracy\")\n",
        "    plt.legend(loc='best')\n",
        "    plt.show()"
      ],
      "execution_count": 21,
      "outputs": []
    },
    {
      "cell_type": "code",
      "metadata": {
        "id": "DXBq-1F86X52",
        "colab": {
          "base_uri": "https://localhost:8080/",
          "height": 964
        },
        "outputId": "1c973f01-862e-4303-beaa-f3ca4f144cc9"
      },
      "source": [
        "pytorch_mlp = PyTorchMLP()\n",
        "learning_curve_info = run_pytorch_gradient_descent(pytorch_mlp,max_iters=10000)\n",
        "plot_learning_curve(*learning_curve_info)"
      ],
      "execution_count": null,
      "outputs": [
        {
          "output_type": "stream",
          "text": [
            "<generator object Module.parameters at 0x7f3edc6ca9d0>\n",
            "Iter 0. [Val Acc 1%] [Train Acc 1%, Loss 5.525949]\n",
            "Iter 500. [Val Acc 30%] [Train Acc 30%, Loss 2.891573]\n",
            "Iter 1000. [Val Acc 32%] [Train Acc 33%, Loss 2.690734]\n",
            "Iter 1500. [Val Acc 32%] [Train Acc 34%, Loss 2.673354]\n",
            "Iter 2000. [Val Acc 33%] [Train Acc 34%, Loss 2.623215]\n",
            "Iter 2500. [Val Acc 33%] [Train Acc 34%, Loss 2.686635]\n",
            "Iter 3000. [Val Acc 33%] [Train Acc 34%, Loss 2.497222]\n",
            "Iter 3500. [Val Acc 34%] [Train Acc 34%, Loss 2.479869]\n",
            "Iter 4000. [Val Acc 34%] [Train Acc 35%, Loss 2.697768]\n",
            "Iter 4500. [Val Acc 34%] [Train Acc 35%, Loss 2.706203]\n",
            "Iter 5000. [Val Acc 34%] [Train Acc 36%, Loss 2.797624]\n",
            "Iter 5500. [Val Acc 34%] [Train Acc 35%, Loss 2.513286]\n",
            "Iter 6000. [Val Acc 34%] [Train Acc 35%, Loss 2.754828]\n",
            "Iter 6500. [Val Acc 34%] [Train Acc 35%, Loss 2.645651]\n",
            "Iter 7000. [Val Acc 34%] [Train Acc 35%, Loss 3.052124]\n",
            "Iter 7500. [Val Acc 34%] [Train Acc 35%, Loss 2.668164]\n",
            "Iter 8000. [Val Acc 34%] [Train Acc 36%, Loss 2.300920]\n",
            "Iter 8500. [Val Acc 34%] [Train Acc 36%, Loss 2.930747]\n",
            "Iter 9000. [Val Acc 34%] [Train Acc 36%, Loss 2.572064]\n",
            "Iter 9500. [Val Acc 34%] [Train Acc 35%, Loss 2.668047]\n",
            "Iter 10000. [Val Acc 34%] [Train Acc 35%, Loss 2.425683]\n"
          ],
          "name": "stdout"
        },
        {
          "output_type": "display_data",
          "data": {
            "image/png": "[encoded data removed]",
            "text/plain": [
              "<Figure size 432x288 with 1 Axes>"
            ]
          },
          "metadata": {
            "tags": [],
            "needs_background": "light"
          }
        },
        {
          "output_type": "display_data",
          "data": {
            "image/png": "[encoded data removed]",
            "text/plain": [
              "<Figure size 432x288 with 1 Axes>"
            ]
          },
          "metadata": {
            "tags": [],
            "needs_background": "light"
          }
        }
      ]
    },
    {
      "cell_type": "code",
      "metadata": {
        "colab": {
          "base_uri": "https://localhost:8080/"
        },
        "id": "ysmNUjcY7jVq",
        "outputId": "c923f264-4f8d-4600-d0bf-cb83935e0504"
      },
      "source": [
        "for lr in [0.001,0.01,0.1,0.3]:\n",
        "  print(\"learning rate\",lr)\n",
        "  pytorch_mlp = PyTorchMLP()\n",
        "  learning_curve_info = run_pytorch_gradient_descent(pytorch_mlp,max_iters=4500)\n",
        "  print(\"====================\")\n",
        "# plot_learning_curve(*learning_curve_info)"
      ],
      "execution_count": null,
      "outputs": [
        {
          "output_type": "stream",
          "text": [
            "learning rate 0.001\n",
            "<generator object Module.parameters at 0x7f3ed6b83cd0>\n",
            "Iter 0. [Val Acc 2%] [Train Acc 2%, Loss 5.511394]\n",
            "Iter 500. [Val Acc 29%] [Train Acc 30%, Loss 2.886515]\n",
            "Iter 1000. [Val Acc 32%] [Train Acc 33%, Loss 2.708653]\n",
            "Iter 1500. [Val Acc 32%] [Train Acc 34%, Loss 2.673246]\n",
            "Iter 2000. [Val Acc 33%] [Train Acc 34%, Loss 2.630921]\n",
            "Iter 2500. [Val Acc 33%] [Train Acc 34%, Loss 2.686315]\n",
            "Iter 3000. [Val Acc 33%] [Train Acc 34%, Loss 2.503071]\n",
            "Iter 3500. [Val Acc 34%] [Train Acc 34%, Loss 2.482945]\n",
            "Iter 4000. [Val Acc 34%] [Train Acc 35%, Loss 2.689580]\n",
            "Iter 4500. [Val Acc 34%] [Train Acc 35%, Loss 2.718635]\n",
            "====================\n",
            "learning rate 0.01\n",
            "<generator object Module.parameters at 0x7f3ed6b7d750>\n",
            "Iter 0. [Val Acc 1%] [Train Acc 1%, Loss 5.516646]\n",
            "Iter 500. [Val Acc 30%] [Train Acc 30%, Loss 2.891824]\n",
            "Iter 1000. [Val Acc 32%] [Train Acc 33%, Loss 2.714156]\n",
            "Iter 1500. [Val Acc 32%] [Train Acc 34%, Loss 2.667472]\n",
            "Iter 2000. [Val Acc 33%] [Train Acc 34%, Loss 2.623386]\n",
            "Iter 2500. [Val Acc 33%] [Train Acc 34%, Loss 2.687159]\n",
            "Iter 3000. [Val Acc 33%] [Train Acc 34%, Loss 2.494699]\n",
            "Iter 3500. [Val Acc 34%] [Train Acc 34%, Loss 2.486665]\n",
            "Iter 4000. [Val Acc 34%] [Train Acc 35%, Loss 2.699065]\n",
            "Iter 4500. [Val Acc 34%] [Train Acc 35%, Loss 2.718774]\n",
            "====================\n",
            "learning rate 0.1\n",
            "<generator object Module.parameters at 0x7f3ed6d52d50>\n",
            "Iter 0. [Val Acc 1%] [Train Acc 1%, Loss 5.520870]\n",
            "Iter 500. [Val Acc 30%] [Train Acc 30%, Loss 2.889787]\n",
            "Iter 1000. [Val Acc 32%] [Train Acc 33%, Loss 2.711241]\n",
            "Iter 1500. [Val Acc 32%] [Train Acc 34%, Loss 2.672279]\n",
            "Iter 2000. [Val Acc 33%] [Train Acc 34%, Loss 2.616629]\n",
            "Iter 2500. [Val Acc 33%] [Train Acc 34%, Loss 2.680289]\n",
            "Iter 3000. [Val Acc 33%] [Train Acc 34%, Loss 2.493670]\n",
            "Iter 3500. [Val Acc 34%] [Train Acc 34%, Loss 2.499091]\n",
            "Iter 4000. [Val Acc 34%] [Train Acc 35%, Loss 2.705736]\n",
            "Iter 4500. [Val Acc 33%] [Train Acc 35%, Loss 2.713581]\n",
            "====================\n",
            "learning rate 0.3\n",
            "<generator object Module.parameters at 0x7f3ed6b7d6d0>\n",
            "Iter 0. [Val Acc 4%] [Train Acc 4%, Loss 5.511839]\n",
            "Iter 500. [Val Acc 30%] [Train Acc 30%, Loss 2.897593]\n",
            "Iter 1000. [Val Acc 32%] [Train Acc 33%, Loss 2.693308]\n",
            "Iter 1500. [Val Acc 33%] [Train Acc 34%, Loss 2.675745]\n",
            "Iter 2000. [Val Acc 33%] [Train Acc 34%, Loss 2.628884]\n",
            "Iter 2500. [Val Acc 33%] [Train Acc 34%, Loss 2.694779]\n",
            "Iter 3000. [Val Acc 33%] [Train Acc 34%, Loss 2.492778]\n",
            "Iter 3500. [Val Acc 34%] [Train Acc 34%, Loss 2.487074]\n",
            "Iter 4000. [Val Acc 34%] [Train Acc 35%, Loss 2.698446]\n",
            "Iter 4500. [Val Acc 34%] [Train Acc 35%, Loss 2.711186]\n",
            "====================\n"
          ],
          "name": "stdout"
        }
      ]
    },
    {
      "cell_type": "markdown",
      "metadata": {
        "id": "xcXqpx0v6X52"
      },
      "source": [
        "### Part (c) -- 10%\n",
        "**Write** a function `make_prediction` that takes as parameters\n",
        "a PyTorchMLP model and sentence (a list of words), and produces\n",
        "a prediction for the next word in the sentence.\n",
        " "
      ]
    },
    {
      "cell_type": "code",
      "metadata": {
        "id": "O2jOK7B26X52"
      },
      "source": [
        "def make_prediction_torch(model, sentence):\n",
        "    \"\"\"\n",
        "    Use the model to make a prediction for the next word in the\n",
        "    sentence using the last 3 words (sentence[:-3]). You may assume\n",
        "    that len(sentence) >= 3 and that `model` is an instance of\n",
        "    PYTorchMLP.\n",
        "\n",
        "    This function should return the next word, represented as a string.\n",
        "\n",
        "    Example call:\n",
        "    >>> make_prediction_torch(pytorch_mlp, ['you', 'are', 'a'])\n",
        "    \"\"\"\n",
        "    global vocab_stoi, vocab_itos\n",
        "    xt=np.array(sentence[-3:])\n",
        "    xt = np.array([vocab_stoi[w] for w in xt])\n",
        "    xt = make_onehot(xt)\n",
        "\n",
        "    y = pytorch_mlp(torch.Tensor(xt))\n",
        "    y = y.detach().numpy() # convert the PyTorch tensor => numpy array\n",
        "    pred = np.argmax(y, axis=1)\n",
        "    return vocab_itos[pred[0]]"
      ],
      "execution_count": null,
      "outputs": []
    },
    {
      "cell_type": "code",
      "metadata": {
        "colab": {
          "base_uri": "https://localhost:8080/",
          "height": 35
        },
        "id": "hse3gPHd-PLc",
        "outputId": "853f21c7-27e0-4bb8-8b9d-a66ceabea7b7"
      },
      "source": [
        "make_prediction_torch(pytorch_mlp, ['you', 'are', 'a'])"
      ],
      "execution_count": null,
      "outputs": [
        {
          "output_type": "execute_result",
          "data": {
            "application/vnd.google.colaboratory.intrinsic+json": {
              "type": "string"
            },
            "text/plain": [
              "'family'"
            ]
          },
          "metadata": {
            "tags": []
          },
          "execution_count": 80
        }
      ]
    },
    {
      "cell_type": "markdown",
      "metadata": {
        "id": "mHvIKjYg6X53"
      },
      "source": [
        "### Part (d) -- 10%\n",
        "\n",
        "Use your code to predict what the next word should be in each\n",
        "of the following sentences:\n",
        "\n",
        "- \"You are a\"\n",
        "- \"few companies show\"\n",
        "- \"There are no\"\n",
        "- \"yesterday i was\"\n",
        "- \"the game had\"\n",
        "- \"yesterday the federal\"\n",
        "\n",
        "Do your predictions make sense?\n",
        "\n",
        "In many cases where you overfit the model can either output the same results for all inputs or just memorize the dataset. \n",
        "\n",
        "**Print** the output for all of these sentences and \n",
        "**Write** below if you encounter these effects or something else which indicates overfitting, if you do train again with better hyperparameters.\n",
        "\n",
        "\n"
      ]
    },
    {
      "cell_type": "code",
      "metadata": {
        "id": "kdzhshY56X53",
        "colab": {
          "base_uri": "https://localhost:8080/"
        },
        "outputId": "4deaaed2-6b84-4aa4-8150-a93f2298205b"
      },
      "source": [
        "print(make_prediction_torch(pytorch_mlp, ['you', 'are', 'a']))\n",
        "print(make_prediction_torch(pytorch_mlp, ['few', 'companies', 'show']))\n",
        "print(make_prediction_torch(pytorch_mlp, ['there', 'are', 'no']))\n",
        "print(make_prediction_torch(pytorch_mlp, ['yesterday', 'i', 'was']))\n",
        "print(make_prediction_torch(pytorch_mlp, ['the', 'game', 'had']))\n",
        "print(make_prediction_torch(pytorch_mlp, ['yesterday', 'the', 'federal']))\n"
      ],
      "execution_count": null,
      "outputs": [
        {
          "output_type": "stream",
          "text": [
            "family\n",
            ".\n",
            "one\n",
            "nt\n",
            "a\n",
            "government\n"
          ],
          "name": "stdout"
        }
      ]
    },
    {
      "cell_type": "markdown",
      "metadata": {
        "id": "mTfh4MwjAlGB"
      },
      "source": [
        "**Write your answers here:**"
      ]
    },
    {
      "cell_type": "markdown",
      "metadata": {
        "id": "F4QBM0fo6X53"
      },
      "source": [
        "### Part (e) -- 4%\n",
        "\n",
        "Report the test accuracy of your model"
      ]
    },
    {
      "cell_type": "code",
      "metadata": {
        "id": "Sq31oqDR6X53",
        "colab": {
          "base_uri": "https://localhost:8080/"
        },
        "outputId": "792d2413-328c-413a-d14b-9cc857628e7f"
      },
      "source": [
        "estimate_accuracy_torch(pytorch_mlp, test4grams)"
      ],
      "execution_count": null,
      "outputs": [
        {
          "output_type": "execute_result",
          "data": {
            "text/plain": [
              "0.33616532721010334"
            ]
          },
          "metadata": {
            "tags": []
          },
          "execution_count": 83
        }
      ]
    },
    {
      "cell_type": "markdown",
      "metadata": {
        "id": "Xlr7C8yg6X53"
      },
      "source": [
        "## Question 3. Learning Word Embeddings (20 %)\n",
        "\n",
        "In this section, we will build a slightly different model with a different\n",
        "architecture. In particular, we will first compute a lower-dimensional\n",
        "*representation* of the three words, before using a multi-layer perceptron.\n",
        "\n",
        "Our model will look like this:\n",
        "\n",
        "<img src=\"https://drive.google.com/uc?id=16lXygLTSuRgOCj6UWK0vHkSoyRJWfMSZ\" />\n",
        " \n",
        "\n",
        "This model has 3 layers instead of 2, but the first layer of the network\n",
        "is **not** fully-connected. Instead, we compute the representations of each\n",
        "of the three words **separately**. In addition, the first layer of the network\n",
        "will not use any biases. The reason for this will be clear in question 4.\n",
        " "
      ]
    },
    {
      "cell_type": "markdown",
      "metadata": {
        "id": "i0td55ll6X54"
      },
      "source": [
        "### Part (a) -- 8%\n",
        "\n",
        "The PyTorch model is implemented for you. Use \n",
        "`run_pytorch_gradient_descent` to train\n",
        "your PyTorch MLP model to obtain a training accuracy of at least 38%.\n",
        "Plot the learning curve using the `plot_learning_curve` function provided\n",
        "to you, and include your plot in your PDF submission.\n"
      ]
    },
    {
      "cell_type": "code",
      "metadata": {
        "id": "HqWlfclh6X54",
        "colab": {
          "base_uri": "https://localhost:8080/",
          "height": 1000
        },
        "outputId": "3d7b0f2c-54b1-4bf0-908c-a1387704ab84"
      },
      "source": [
        "class PyTorchWordEmb(nn.Module):\n",
        "    def __init__(self, emb_size=100, num_hidden=300, vocab_size=250):\n",
        "        super(PyTorchWordEmb, self).__init__()\n",
        "        self.word_emb_layer = nn.Linear(vocab_size, emb_size, bias=False)\n",
        "        self.fc_layer1 = nn.Linear(emb_size * 3, num_hidden)\n",
        "        self.fc_layer2 = nn.Linear(num_hidden, 250)\n",
        "        self.num_hidden = num_hidden\n",
        "        self.emb_size = emb_size\n",
        "    def forward(self, inp):\n",
        "        embeddings = torch.relu(self.word_emb_layer(inp))\n",
        "        embeddings = embeddings.reshape([-1, self.emb_size * 3])\n",
        "        hidden = torch.relu(self.fc_layer1(embeddings))\n",
        "        return self.fc_layer2(hidden)\n",
        "\n",
        "pytorch_wordemb= PyTorchWordEmb()\n",
        "\n",
        "result = run_pytorch_gradient_descent(pytorch_wordemb,\n",
        "                                      max_iters=20000)\n",
        "\n",
        "plot_learning_curve(*result)"
      ],
      "execution_count": null,
      "outputs": [
        {
          "output_type": "stream",
          "text": [
            "<generator object Module.parameters at 0x7f3ed6903dd0>\n",
            "Iter 0. [Val Acc 0%] [Train Acc 0%, Loss 5.519767]\n",
            "Iter 500. [Val Acc 27%] [Train Acc 27%, Loss 3.091149]\n",
            "Iter 1000. [Val Acc 29%] [Train Acc 30%, Loss 2.883111]\n",
            "Iter 1500. [Val Acc 31%] [Train Acc 31%, Loss 2.796882]\n",
            "Iter 2000. [Val Acc 32%] [Train Acc 32%, Loss 2.756801]\n",
            "Iter 2500. [Val Acc 32%] [Train Acc 33%, Loss 2.809525]\n",
            "Iter 3000. [Val Acc 33%] [Train Acc 33%, Loss 2.549537]\n",
            "Iter 3500. [Val Acc 33%] [Train Acc 34%, Loss 2.463275]\n",
            "Iter 4000. [Val Acc 34%] [Train Acc 35%, Loss 2.758796]\n",
            "Iter 4500. [Val Acc 34%] [Train Acc 35%, Loss 2.739946]\n",
            "Iter 5000. [Val Acc 34%] [Train Acc 35%, Loss 2.763401]\n",
            "Iter 5500. [Val Acc 35%] [Train Acc 36%, Loss 2.480014]\n",
            "Iter 6000. [Val Acc 35%] [Train Acc 36%, Loss 2.752753]\n",
            "Iter 6500. [Val Acc 35%] [Train Acc 36%, Loss 2.638116]\n",
            "Iter 7000. [Val Acc 35%] [Train Acc 36%, Loss 2.971338]\n",
            "Iter 7500. [Val Acc 35%] [Train Acc 36%, Loss 2.732200]\n",
            "Iter 8000. [Val Acc 36%] [Train Acc 37%, Loss 2.161062]\n",
            "Iter 8500. [Val Acc 36%] [Train Acc 37%, Loss 2.904591]\n",
            "Iter 9000. [Val Acc 36%] [Train Acc 37%, Loss 2.457529]\n",
            "Iter 9500. [Val Acc 36%] [Train Acc 37%, Loss 2.663745]\n",
            "Iter 10000. [Val Acc 36%] [Train Acc 37%, Loss 2.347051]\n",
            "Iter 10500. [Val Acc 36%] [Train Acc 37%, Loss 2.531721]\n",
            "Iter 11000. [Val Acc 36%] [Train Acc 37%, Loss 2.629775]\n",
            "Iter 11500. [Val Acc 36%] [Train Acc 38%, Loss 2.622540]\n",
            "Iter 12000. [Val Acc 37%] [Train Acc 39%, Loss 2.369426]\n",
            "Iter 12500. [Val Acc 37%] [Train Acc 38%, Loss 2.498651]\n",
            "Iter 13000. [Val Acc 37%] [Train Acc 38%, Loss 2.209007]\n",
            "Iter 13500. [Val Acc 37%] [Train Acc 38%, Loss 2.776955]\n",
            "Iter 14000. [Val Acc 37%] [Train Acc 38%, Loss 2.579238]\n",
            "Iter 14500. [Val Acc 37%] [Train Acc 38%, Loss 2.773274]\n",
            "Iter 15000. [Val Acc 37%] [Train Acc 39%, Loss 2.241505]\n",
            "Iter 15500. [Val Acc 37%] [Train Acc 39%, Loss 2.579843]\n",
            "Iter 16000. [Val Acc 37%] [Train Acc 39%, Loss 2.234900]\n",
            "Iter 16500. [Val Acc 37%] [Train Acc 39%, Loss 2.380441]\n",
            "Iter 17000. [Val Acc 37%] [Train Acc 39%, Loss 2.540940]\n",
            "Iter 17500. [Val Acc 37%] [Train Acc 39%, Loss 2.493323]\n",
            "Iter 18000. [Val Acc 37%] [Train Acc 39%, Loss 2.716907]\n",
            "Iter 18500. [Val Acc 37%] [Train Acc 39%, Loss 2.320460]\n",
            "Iter 19000. [Val Acc 37%] [Train Acc 40%, Loss 2.482146]\n",
            "Iter 19500. [Val Acc 37%] [Train Acc 40%, Loss 2.593481]\n",
            "Iter 20000. [Val Acc 37%] [Train Acc 40%, Loss 2.499812]\n"
          ],
          "name": "stdout"
        },
        {
          "output_type": "display_data",
          "data": {
            "image/png": "[encoded data removed]",
            "text/plain": [
              "<Figure size 432x288 with 1 Axes>"
            ]
          },
          "metadata": {
            "tags": [],
            "needs_background": "light"
          }
        },
        {
          "output_type": "display_data",
          "data": {
            "image/png": "[encoded data removed]",
            "text/plain": [
              "<Figure size 432x288 with 1 Axes>"
            ]
          },
          "metadata": {
            "tags": [],
            "needs_background": "light"
          }
        }
      ]
    },
    {
      "cell_type": "markdown",
      "metadata": {
        "id": "oekGJRad6X54"
      },
      "source": [
        "### Part (b) -- 8%\n",
        "\n",
        "Use the function `make_prediction` that you wrote earlier to predict what the next word should be in each of the following sentences:\n",
        "\n",
        "- \"You are a\"\n",
        "- \"few companies show\"\n",
        "- \"There are no\"\n",
        "- \"yesterday i was\"\n",
        "- \"the game had\"\n",
        "- \"yesterday the federal\"\n",
        "\n",
        "How do these predictions compared to the previous model?\n",
        "\n",
        "**Print** the output for all of these sentences using the new network and \n",
        "**Write** below how the new results compare to the previous ones.\n",
        "\n",
        "Just like before, if you encounter overfitting,\n",
        "train your model for more iterations, or change the hyperparameters in your\n",
        "model. You may need to do this even if your training accuracy is >=38%."
      ]
    },
    {
      "cell_type": "code",
      "metadata": {
        "id": "I1W2Vl3g6X54",
        "colab": {
          "base_uri": "https://localhost:8080/"
        },
        "outputId": "c5c789cf-2ec1-4542-80d6-52ccd9468c0f"
      },
      "source": [
        "print(make_prediction_torch(pytorch_wordemb, ['you', 'are', 'a']))\n",
        "print(make_prediction_torch(pytorch_wordemb, ['few', 'companies', 'show']))\n",
        "print(make_prediction_torch(pytorch_wordemb, ['there', 'are', 'no']))\n",
        "print(make_prediction_torch(pytorch_wordemb, ['yesterday', 'i', 'was']))\n",
        "print(make_prediction_torch(pytorch_wordemb, ['the', 'game', 'had']))\n",
        "print(make_prediction_torch(pytorch_wordemb, ['yesterday', 'the', 'federal']))"
      ],
      "execution_count": null,
      "outputs": [
        {
          "output_type": "stream",
          "text": [
            "family\n",
            ".\n",
            "one\n",
            "nt\n",
            "a\n",
            "government\n"
          ],
          "name": "stdout"
        }
      ]
    },
    {
      "cell_type": "markdown",
      "metadata": {
        "id": "uZQeQXPfGQNB"
      },
      "source": [
        "**Write your explanation here:**"
      ]
    },
    {
      "cell_type": "markdown",
      "metadata": {
        "id": "g36bTOV46X54"
      },
      "source": [
        "### Part (c) -- 4%\n",
        "\n",
        "Report the test accuracy of your model"
      ]
    },
    {
      "cell_type": "code",
      "metadata": {
        "id": "qy8W6XrZ6X54",
        "colab": {
          "base_uri": "https://localhost:8080/"
        },
        "outputId": "c7621d1c-beb5-47e7-d5ed-62425dd0be04"
      },
      "source": [
        "estimate_accuracy_torch(pytorch_wordemb, test4grams)"
      ],
      "execution_count": null,
      "outputs": [
        {
          "output_type": "execute_result",
          "data": {
            "text/plain": [
              "0.37549316355286505"
            ]
          },
          "metadata": {
            "tags": []
          },
          "execution_count": 86
        }
      ]
    },
    {
      "cell_type": "markdown",
      "metadata": {
        "id": "J1fyrlDz6X55"
      },
      "source": [
        "## Question 4. Visualizing Word Embeddings (15%)\n",
        "\n",
        "While training the `PyTorchMLP`, we trained the `word_emb_layer`, which takes a one-hot\n",
        "representation of a word in our vocabulary, and returns a low-dimensional vector\n",
        "representation of that word. In this question, we will explore these word embeddings, which are a key concept in natural language processing.\n",
        "\n",
        "\n",
        "\n",
        "\n",
        "### Part (a) -- 5%\n",
        "\n",
        "The code below extracts the **weights** of the word embedding layer,\n",
        "and converts the PyTorch tensor into an numpy array.\n",
        "Explain why each *row* of `word_emb` contains the vector representing\n",
        "of a word. For example `word_emb[vocab_stoi[\"any\"],:]` contains the\n",
        "vector representation of the word \"any\"."
      ]
    },
    {
      "cell_type": "code",
      "metadata": {
        "id": "7IvS6JDM6X55"
      },
      "source": [
        "word_emb_weights = list(pytorch_wordemb.word_emb_layer.parameters())[0]\n",
        "word_emb = word_emb_weights.detach().numpy().T\n"
      ],
      "execution_count": null,
      "outputs": []
    },
    {
      "cell_type": "markdown",
      "metadata": {
        "id": "SF_kTjxrkonT"
      },
      "source": [
        "**Write your explanation here:**"
      ]
    },
    {
      "cell_type": "markdown",
      "metadata": {
        "id": "Hl-JenYz6X55"
      },
      "source": [
        "### Part (b) -- 5%\n",
        "\n",
        "One interesting thing about these word embeddings is that distances\n",
        "in these vector representations of words make some sense! To show this,\n",
        "we have provided code below that computes the *cosine similarity* of\n",
        "every pair of words in our vocabulary. This measure of similarity between vector ${\\bf v}$ and ${\\bf w}$ is defined as \n",
        "   $$d_{\\rm cos}({\\bf v},{\\bf w}) = \\frac{{\\bf v}^T{\\bf w}}{||{\\bf v}|| ||{\\bf w}||}.$$  We also pre-scale the vectors to have a unit norm, using Numpy's `norm` method."
      ]
    },
    {
      "cell_type": "code",
      "metadata": {
        "id": "MPiv3pFX6X55",
        "colab": {
          "base_uri": "https://localhost:8080/"
        },
        "outputId": "8b290cee-d6b8-47f4-b8c9-501671e3d4f6"
      },
      "source": [
        "norms = np.linalg.norm(word_emb, axis=1)\n",
        "word_emb_norm = (word_emb.T / norms).T\n",
        "similarities = np.matmul(word_emb_norm, word_emb_norm.T)\n",
        "\n",
        "# Some example distances. The first one should be larger than the second\n",
        "print(similarities[vocab_stoi['any'], vocab_stoi['many']])\n",
        "print(similarities[vocab_stoi['any'], vocab_stoi['government']])"
      ],
      "execution_count": null,
      "outputs": [
        {
          "output_type": "stream",
          "text": [
            "0.2720542\n",
            "-0.0033610645\n"
          ],
          "name": "stdout"
        }
      ]
    },
    {
      "cell_type": "markdown",
      "metadata": {
        "id": "1ctM-Mgr6X55"
      },
      "source": [
        "Compute the 5 closest words to the following words:\n",
        "\n",
        "- \"four\"\n",
        "- \"go\"\n",
        "- \"what\"\n",
        "- \"should\"\n",
        "- \"school\"\n",
        "- \"your\"\n",
        "- \"yesterday\"\n",
        "- \"not\""
      ]
    },
    {
      "cell_type": "code",
      "metadata": {
        "id": "66NCoAE26X55",
        "colab": {
          "base_uri": "https://localhost:8080/"
        },
        "outputId": "d2385b0a-0154-4ce3-e188-1ef792df6699"
      },
      "source": [
        "for word in [\"four\",\"go\",\"what\",\"should\",\"school\",\"your\",\"yesterday\",\"not\"]:\n",
        "  words_similarities=[(w,similarities[vocab_stoi[word], vocab_stoi[w]]) for w in vocab_stoi if w!=word]\n",
        "  similarities_dict = {}\n",
        "  [similarities_dict.update({k:v}) for k,v in words_similarities]\n",
        "  c=Counter(similarities_dict)\n",
        "  print(\"5 closetst words for\",word,c.most_common(5))\n",
        "  print(\"======================\")"
      ],
      "execution_count": null,
      "outputs": [
        {
          "output_type": "stream",
          "text": [
            "5 closetst words for four [('several', 0.43998078), ('old', 0.40848765), ('three', 0.39993352), ('two', 0.35591373), ('those', 0.34270808)]\n",
            "======================\n",
            "5 closetst words for go [('come', 0.41147318), ('going', 0.38305816), ('same', 0.3653787), ('end', 0.3634467), ('get', 0.35959008)]\n",
            "======================\n",
            "5 closetst words for what [('who', 0.41074818), ('where', 0.37999785), ('when', 0.33410132), ('how', 0.32082787), (',', 0.30758116)]\n",
            "======================\n",
            "5 closetst words for should [('could', 0.511528), ('through', 0.42366257), ('will', 0.34614223), ('may', 0.3256105), ('would', 0.28772727)]\n",
            "======================\n",
            "5 closetst words for school [('house', 0.41991848), ('life', 0.4173005), ('home', 0.40780923), ('office', 0.3983225), ('business', 0.35973108)]\n",
            "======================\n",
            "5 closetst words for your [('his', 0.6935149), ('their', 0.6281326), ('its', 0.39231005), ('united', 0.36281645), ('the', 0.3209199)]\n",
            "======================\n",
            "5 closetst words for yesterday [('game', 0.4505836), ('york', 0.4379838), ('season', 0.40642476), ('world', 0.3817792), (')', 0.36809805)]\n",
            "======================\n",
            "5 closetst words for not [('nt', 0.56040025), ('never', 0.35438135), ('still', 0.32696077), ('both', 0.30001533), ('might', 0.29099268)]\n",
            "======================\n"
          ],
          "name": "stdout"
        }
      ]
    },
    {
      "cell_type": "markdown",
      "metadata": {
        "id": "JJAOG_pg6X55"
      },
      "source": [
        "### Part (c) -- 5%\n",
        "\n",
        "We can visualize the word embeddings by reducing the dimensionality of\n",
        "the word vectors to 2D. There are many dimensionality reduction techniques\n",
        "that we could use, and we will use an algorithm called t-SNE.\n",
        "(You don’t need to know what this is for the assignment; we will cover it later in the course.)\n",
        "Nearby points in this 2-D space are meant to correspond to nearby points\n",
        "in the original, high-dimensional space.\n",
        "\n",
        "The following code runs the t-SNE algorithm and plots the result.\n",
        "\n",
        "Look at the plot and find at least two clusters of related words.\n",
        "\n",
        "**Write** below for each cluster what is the commonality (if there is any) and if they make sense.\n",
        "\n",
        "Note that there is randomness in the initialization of the t-SNE \n",
        "algorithm. If you re-run this code, you may get a different image.\n",
        "Please make sure to submit your image in the PDF file."
      ]
    },
    {
      "cell_type": "code",
      "metadata": {
        "id": "seD1PgwK6X56",
        "colab": {
          "base_uri": "https://localhost:8080/",
          "height": 600
        },
        "outputId": "e0bb82f2-8137-478d-88d6-531eeed36d6e"
      },
      "source": [
        "import sklearn.manifold\n",
        "tsne = sklearn.manifold.TSNE()\n",
        "Y = tsne.fit_transform(word_emb)\n",
        "\n",
        "plt.figure(figsize=(10, 10))\n",
        "plt.xlim(Y[:,0].min(), Y[:, 0].max())\n",
        "plt.ylim(Y[:,1].min(), Y[:, 1].max())\n",
        "for i, w in enumerate(vocab):\n",
        "    plt.text(Y[i, 0], Y[i, 1], w)\n",
        "plt.show()"
      ],
      "execution_count": null,
      "outputs": [
        {
          "output_type": "display_data",
          "data": {
            "image/png": "[encoded data removed]",
            "text/plain": [
              "<Figure size 720x720 with 1 Axes>"
            ]
          },
          "metadata": {
            "tags": [],
            "needs_background": "light"
          }
        }
      ]
    },
    {
      "cell_type": "markdown",
      "metadata": {
        "id": "rb4gbqMam8S5"
      },
      "source": [
        "**Explain and discuss your results here:**"
      ]
    }
  ]
}