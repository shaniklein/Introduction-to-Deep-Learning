{
  "nbformat": 4,
  "nbformat_minor": 0,
  "metadata": {
    "colab": {
      "name": "Project.ipynb",
      "provenance": [],
      "authorship_tag": "ABX9TyNgeLjcvUZZuBg4rpXf2a+G",
      "include_colab_link": true
    },
    "kernelspec": {
      "name": "python3",
      "display_name": "Python 3"
    },
    "language_info": {
      "name": "python"
    },
    "accelerator": "GPU"
  },
  "cells": [
    {
      "cell_type": "markdown",
      "metadata": {
        "id": "view-in-github",
        "colab_type": "text"
      },
      "source": [
        "<a href=\"https://colab.research.google.com/github/shaniklein/Introduction-to-Deep-Learning/blob/main/Project.ipynb\" target=\"_parent\"><img src=\"https://colab.research.google.com/assets/colab-badge.svg\" alt=\"Open In Colab\"/></a>"
      ]
    },
    {
      "cell_type": "code",
      "metadata": {
        "colab": {
          "base_uri": "https://localhost:8080/"
        },
        "id": "0k4SO_ViMm-Z",
        "outputId": "688132cf-a72b-4072-a781-5ee7a3a6dfb6"
      },
      "source": [
        "import sys\n",
        "from google.colab import drive\n",
        "drive.mount('/content/gdrive/')\n",
        "\n",
        "sys.path.append('/content/gdrive/My Drive/Intro_to_Deep_Learning/Final_project')"
      ],
      "execution_count": 1,
      "outputs": [
        {
          "output_type": "stream",
          "text": [
            "Drive already mounted at /content/gdrive/; to attempt to forcibly remount, call drive.mount(\"/content/gdrive/\", force_remount=True).\n"
          ],
          "name": "stdout"
        }
      ]
    },
    {
      "cell_type": "code",
      "metadata": {
        "colab": {
          "base_uri": "https://localhost:8080/"
        },
        "id": "am6NSyBcLRY5",
        "outputId": "3790481a-0cb9-480a-9a28-04dbc1f1f9cf"
      },
      "source": [
        "!pip install dominate==2.4.0\n",
        "\n",
        "import os\n",
        "from collections import OrderedDict\n",
        "\n",
        "import data\n",
        "from models.pix2pix_model import Pix2PixModel\n",
        "from util.visualizer import Visualizer\n",
        "from util import html\n",
        "from  make_options import make_options"
      ],
      "execution_count": 2,
      "outputs": [
        {
          "output_type": "stream",
          "text": [
            "Requirement already satisfied: dominate==2.4.0 in /usr/local/lib/python3.7/dist-packages (2.4.0)\n"
          ],
          "name": "stdout"
        }
      ]
    },
    {
      "cell_type": "code",
      "metadata": {
        "colab": {
          "base_uri": "https://localhost:8080/"
        },
        "id": "el7GFgrKXRQZ",
        "outputId": "3a066d4d-8b80-49d0-86f1-835edd792923"
      },
      "source": [
        "# pre trained model\n",
        "# !tar xvf /content/gdrive/MyDrive/Intro_to_Deep_Learning/Final_project/checkpoints.tar.gz"
      ],
      "execution_count": 25,
      "outputs": [
        {
          "output_type": "stream",
          "text": [
            "./\n",
            "./checkpoints.tar.gz\n",
            "./coco_pretrained/\n",
            "./coco_pretrained/latest_net_G.pth\n",
            "./ade20k_pretrained/\n",
            "./ade20k_pretrained/latest_net_G.pth\n",
            "./cityscapes_pretrained/\n",
            "./cityscapes_pretrained/latest_net_G.pth\n"
          ],
          "name": "stdout"
        }
      ]
    },
    {
      "cell_type": "code",
      "metadata": {
        "colab": {
          "base_uri": "https://localhost:8080/"
        },
        "id": "IYAM98Vem37d",
        "outputId": "9069b4d9-788b-4e04-bace-daa83df29e76"
      },
      "source": [
        "# Eval\n",
        "opt=make_options()\n",
        "dataloader = data.create_dataloader(opt)\n",
        "\n",
        "model = Pix2PixModel(opt)\n",
        "model.eval()\n",
        "\n",
        "visualizer = Visualizer(opt)\n",
        "\n",
        "# create a webpage that summarizes the all results\n",
        "web_dir = os.path.join(opt.results_dir, opt.name,\n",
        "                       '%s_%s' % (opt.phase, opt.which_epoch))\n",
        "webpage = html.HTML(web_dir,\n",
        "                    'Experiment = %s, Phase = %s, Epoch = %s' %\n",
        "                    (opt.name, opt.phase, opt.which_epoch))\n",
        "\n",
        "# test\n",
        "for i, data_i in enumerate(dataloader):\n",
        "    if i * opt.batchSize >= opt.how_many:\n",
        "        break\n",
        "\n",
        "    generated = model(data_i, mode='inference')\n",
        "\n",
        "    img_path = data_i['path']\n",
        "    for b in range(generated.shape[0]):\n",
        "        print('process image... %s' % img_path[b])\n",
        "        visuals = OrderedDict([('input_label', data_i['label'][b]),\n",
        "                               ('synthesized_image', generated[b])])\n",
        "        visualizer.save_images(webpage, visuals, img_path[b:b + 1])\n",
        "\n",
        "webpage.save()"
      ],
      "execution_count": 3,
      "outputs": [
        {
          "output_type": "stream",
          "text": [
            "dataset [CocoDataset] of size 13 was created\n",
            "Network [SPADEGenerator] was created. Total number of parameters: 97.5 million. To see the architecture, do print(network).\n"
          ],
          "name": "stdout"
        },
        {
          "output_type": "stream",
          "text": [
            "/usr/local/lib/python3.7/dist-packages/torchvision/transforms/transforms.py:258: UserWarning: Argument interpolation should be of type InterpolationMode instead of int. Please, use InterpolationMode enum.\n",
            "  \"Argument interpolation should be of type InterpolationMode instead of int. \"\n",
            "/usr/local/lib/python3.7/dist-packages/torch/nn/functional.py:1698: UserWarning: nn.functional.tanh is deprecated. Use torch.tanh instead.\n",
            "  warnings.warn(\"nn.functional.tanh is deprecated. Use torch.tanh instead.\")\n"
          ],
          "name": "stderr"
        },
        {
          "output_type": "stream",
          "text": [
            "process image... /content/gdrive/MyDrive/Intro_to_Deep_Learning/Final_project/datasets/coco_stuff/train_img/000000580986.jpg\n",
            "process image... /content/gdrive/MyDrive/Intro_to_Deep_Learning/Final_project/datasets/coco_stuff/train_img/000000500044.jpg\n",
            "process image... /content/gdrive/MyDrive/Intro_to_Deep_Learning/Final_project/datasets/coco_stuff/train_img/000000284465.jpg\n",
            "process image... /content/gdrive/MyDrive/Intro_to_Deep_Learning/Final_project/datasets/coco_stuff/train_img/000000029286.jpg\n",
            "process image... /content/gdrive/MyDrive/Intro_to_Deep_Learning/Final_project/datasets/coco_stuff/train_img/000000350505.jpg\n",
            "process image... /content/gdrive/MyDrive/Intro_to_Deep_Learning/Final_project/datasets/coco_stuff/train_img/000000371376.jpg\n",
            "process image... /content/gdrive/MyDrive/Intro_to_Deep_Learning/Final_project/datasets/coco_stuff/train_img/000000017914.jpg\n",
            "process image... /content/gdrive/MyDrive/Intro_to_Deep_Learning/Final_project/datasets/coco_stuff/train_img/000000138805.jpg\n",
            "process image... /content/gdrive/MyDrive/Intro_to_Deep_Learning/Final_project/datasets/coco_stuff/train_img/000000475177.jpg\n",
            "process image... /content/gdrive/MyDrive/Intro_to_Deep_Learning/Final_project/datasets/coco_stuff/train_img/000000184101.jpg\n",
            "process image... /content/gdrive/MyDrive/Intro_to_Deep_Learning/Final_project/datasets/coco_stuff/train_img/000000197384.jpg\n",
            "process image... /content/gdrive/MyDrive/Intro_to_Deep_Learning/Final_project/datasets/coco_stuff/train_img/000000203744.jpg\n",
            "process image... /content/gdrive/MyDrive/Intro_to_Deep_Learning/Final_project/datasets/coco_stuff/train_img/000000426773.jpg\n"
          ],
          "name": "stdout"
        }
      ]
    }
  ]
}