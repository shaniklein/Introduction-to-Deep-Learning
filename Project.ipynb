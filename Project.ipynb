{
  "nbformat": 4,
  "nbformat_minor": 0,
  "metadata": {
    "colab": {
      "name": "Project.ipynb",
      "provenance": [],
      "authorship_tag": "ABX9TyNBIyMeHJBRrXX0NXIPmwEu",
      "include_colab_link": true
    },
    "kernelspec": {
      "name": "python3",
      "display_name": "Python 3"
    },
    "language_info": {
      "name": "python"
    },
    "accelerator": "GPU"
  },
  "cells": [
    {
      "cell_type": "markdown",
      "metadata": {
        "id": "view-in-github",
        "colab_type": "text"
      },
      "source": [
        "<a href=\"https://colab.research.google.com/github/shaniklein/Introduction-to-Deep-Learning/blob/main/Project.ipynb\" target=\"_parent\"><img src=\"https://colab.research.google.com/assets/colab-badge.svg\" alt=\"Open In Colab\"/></a>"
      ]
    },
    {
      "cell_type": "code",
      "metadata": {
        "colab": {
          "base_uri": "https://localhost:8080/"
        },
        "id": "0k4SO_ViMm-Z",
        "outputId": "6e78ccdb-8917-4657-ddf2-047ae082e2e6"
      },
      "source": [
        "import sys\n",
        "from google.colab import drive\n",
        "drive.mount('/content/gdrive/')\n",
        "sys.path.append('/content/gdrive/My Drive/Intro_to_Deep_Learning/Final_project')"
      ],
      "execution_count": 1,
      "outputs": [
        {
          "output_type": "stream",
          "text": [
            "Mounted at /content/gdrive/\n"
          ],
          "name": "stdout"
        }
      ]
    },
    {
      "cell_type": "code",
      "metadata": {
        "colab": {
          "base_uri": "https://localhost:8080/"
        },
        "id": "am6NSyBcLRY5",
        "outputId": "7a3b9992-f875-431d-c162-354577fa57da"
      },
      "source": [
        "!pip install dominate==2.4.0\n",
        "\n",
        "import os\n",
        "import sys\n",
        "\n",
        "from collections import OrderedDict\n",
        "import data\n",
        "from models.pix2pix_model import Pix2PixModel\n",
        "from util.visualizer import Visualizer\n",
        "from util import html\n",
        "from  make_options import make_options\n",
        "from util.iter_counter import IterationCounter\n",
        "from util.visualizer import Visualizer\n",
        "from trainers.pix2pix_trainer import Pix2PixTrainer\n"
      ],
      "execution_count": 3,
      "outputs": [
        {
          "output_type": "stream",
          "text": [
            "Collecting dominate==2.4.0\n",
            "  Downloading https://files.pythonhosted.org/packages/1d/64/593e829416c951eb35c2246430d59b86f640087e29e71f32632bcde5d0f7/dominate-2.4.0-py2.py3-none-any.whl\n",
            "Installing collected packages: dominate\n",
            "Successfully installed dominate-2.4.0\n"
          ],
          "name": "stdout"
        }
      ]
    },
    {
      "cell_type": "code",
      "metadata": {
        "id": "kAqEfWoo4GhR",
        "outputId": "ad40c10a-8384-4ccc-d944-75190ab00330",
        "colab": {
          "base_uri": "https://localhost:8080/"
        }
      },
      "source": [
        "# !python  train.py --name [experiment_name] --dataset_mode facades --dataroot [path_to_facades_dataset]\n",
        "!python /content/gdrive/MyDrive/Intro_to_Deep_Learning/Final_project/train.py --name first_try --dataset_mode coco --dataroot /content/gdrive/MyDrive/Intro_to_Deep_Learning/Final_project/datasets/coco_stuff\n"
      ],
      "execution_count": 6,
      "outputs": [
        {
          "output_type": "stream",
          "text": [
            "----------------- Options ---------------\n",
            "            D_steps_per_G: 1                             \n",
            "             aspect_ratio: 1.0                           \n",
            "                batchSize: 1                             \n",
            "                    beta1: 0.0                           \n",
            "                    beta2: 0.9                           \n",
            "      cache_filelist_read: True                          \n",
            "     cache_filelist_write: True                          \n",
            "          checkpoints_dir: /content/gdrive/MyDrive/Intro_to_Deep_Learning/Final_project\n",
            "        coco_no_portraits: False                         \n",
            "   contain_dontcare_label: True                          \n",
            "           continue_train: False                         \n",
            "                crop_size: 256                           \n",
            "                 dataroot: /content/gdrive/MyDrive/Intro_to_Deep_Learning/Final_project/datasets/coco_stuff\t[default: ./datasets/cityscapes/]\n",
            "             dataset_mode: coco                          \n",
            "                    debug: False                         \n",
            "             display_freq: 100                           \n",
            "          display_winsize: 256                           \n",
            "                 gan_mode: hinge                         \n",
            "                  gpu_ids: 0                             \n",
            "                init_type: xavier                        \n",
            "            init_variance: 0.02                          \n",
            "                  isTrain: True                          \t[default: None]\n",
            "                 label_nc: 182                           \n",
            "              lambda_feat: 10.0                          \n",
            "               lambda_kld: 0.05                          \n",
            "               lambda_vgg: 10.0                          \n",
            "       load_from_opt_file: False                         \n",
            "                load_size: 286                           \n",
            "                       lr: 0.0002                        \n",
            "         max_dataset_size: 9223372036854775807           \n",
            "                    model: pix2pix                       \n",
            "                 nThreads: 0                             \n",
            "               n_layers_D: 4                             \n",
            "                     name: first_try                     \t[default: label2coco]\n",
            "                      ndf: 64                            \n",
            "                      nef: 16                            \n",
            "                     netD: multiscale                    \n",
            "             netD_subarch: n_layer                       \n",
            "                     netG: spade                         \n",
            "                      ngf: 64                            \n",
            "                    niter: 50                            \n",
            "              niter_decay: 0                             \n",
            "                  no_TTUR: False                         \n",
            "                  no_flip: False                         \n",
            "          no_ganFeat_loss: False                         \n",
            "                  no_html: False                         \n",
            "              no_instance: False                         \n",
            "         no_pairing_check: False                         \n",
            "              no_vgg_loss: False                         \n",
            "                   norm_D: spectralinstance              \n",
            "                   norm_E: spectralinstance              \n",
            "                   norm_G: spectralspadesyncbatch3x3     \n",
            "                    num_D: 2                             \n",
            "    num_upsampling_layers: normal                        \n",
            "                optimizer: adam                          \n",
            "                output_nc: 3                             \n",
            "                    phase: train                         \n",
            "          preprocess_mode: resize_and_crop               \n",
            "               print_freq: 100                           \n",
            "          save_epoch_freq: 10                            \n",
            "         save_latest_freq: 5000                          \n",
            "           serial_batches: False                         \n",
            "                   tf_log: False                         \n",
            "                  use_vae: False                         \n",
            "              which_epoch: latest                        \n",
            "                    z_dim: 256                           \n",
            "----------------- End -------------------\n",
            "/content/gdrive/MyDrive/Intro_to_Deep_Learning/Final_project/train.py --name first_try --dataset_mode coco --dataroot /content/gdrive/MyDrive/Intro_to_Deep_Learning/Final_project/datasets/coco_stuff\n",
            "dataset [CocoDataset] of size 13 was created\n",
            "Network [SPADEGenerator] was created. Total number of parameters: 97.5 million. To see the architecture, do print(network).\n",
            "Network [MultiscaleDiscriminator] was created. Total number of parameters: 5.9 million. To see the architecture, do print(network).\n",
            "Downloading: \"https://download.pytorch.org/models/vgg19-dcbb9e9d.pth\" to /root/.cache/torch/hub/checkpoints/vgg19-dcbb9e9d.pth\n",
            "100% 548M/548M [00:07<00:00, 79.2MB/s]\n",
            "create web directory /content/gdrive/MyDrive/Intro_to_Deep_Learning/Final_project/first_try/web...\n",
            "/usr/local/lib/python3.7/dist-packages/torchvision/transforms/transforms.py:258: UserWarning: Argument interpolation should be of type InterpolationMode instead of int. Please, use InterpolationMode enum.\n",
            "  \"Argument interpolation should be of type InterpolationMode instead of int. \"\n",
            "/usr/local/lib/python3.7/dist-packages/torch/nn/functional.py:1698: UserWarning: nn.functional.tanh is deprecated. Use torch.tanh instead.\n",
            "  warnings.warn(\"nn.functional.tanh is deprecated. Use torch.tanh instead.\")\n",
            "End of epoch 1 / 50 \t Time Taken: 17 sec\n",
            "End of epoch 2 / 50 \t Time Taken: 18 sec\n",
            "End of epoch 3 / 50 \t Time Taken: 18 sec\n",
            "End of epoch 4 / 50 \t Time Taken: 18 sec\n",
            "End of epoch 5 / 50 \t Time Taken: 18 sec\n",
            "End of epoch 6 / 50 \t Time Taken: 18 sec\n",
            "End of epoch 7 / 50 \t Time Taken: 18 sec\n",
            "(epoch: 8, iters: 9, time: 1.402) GAN: -0.288 GAN_Feat: 15.055 VGG: 6.765 D_Fake: 1.449 D_real: 0.268 \n",
            "End of epoch 8 / 50 \t Time Taken: 18 sec\n",
            "End of epoch 9 / 50 \t Time Taken: 18 sec\n",
            "End of epoch 10 / 50 \t Time Taken: 18 sec\n",
            "Saved current iteration count at /content/gdrive/MyDrive/Intro_to_Deep_Learning/Final_project/first_try/iter.txt.\n",
            "saving the model at the end of epoch 10, iters 130\n",
            "End of epoch 11 / 50 \t Time Taken: 17 sec\n",
            "End of epoch 12 / 50 \t Time Taken: 18 sec\n",
            "End of epoch 13 / 50 \t Time Taken: 18 sec\n",
            "End of epoch 14 / 50 \t Time Taken: 18 sec\n",
            "End of epoch 15 / 50 \t Time Taken: 18 sec\n",
            "(epoch: 16, iters: 5, time: 1.398) GAN: 1.022 GAN_Feat: 12.189 VGG: 11.240 D_Fake: 0.381 D_real: 1.436 \n",
            "End of epoch 16 / 50 \t Time Taken: 18 sec\n",
            "End of epoch 17 / 50 \t Time Taken: 18 sec\n",
            "End of epoch 18 / 50 \t Time Taken: 18 sec\n",
            "End of epoch 19 / 50 \t Time Taken: 18 sec\n",
            "End of epoch 20 / 50 \t Time Taken: 18 sec\n",
            "Saved current iteration count at /content/gdrive/MyDrive/Intro_to_Deep_Learning/Final_project/first_try/iter.txt.\n",
            "saving the model at the end of epoch 20, iters 260\n",
            "End of epoch 21 / 50 \t Time Taken: 18 sec\n",
            "End of epoch 22 / 50 \t Time Taken: 18 sec\n",
            "End of epoch 23 / 50 \t Time Taken: 18 sec\n",
            "(epoch: 24, iters: 1, time: 0.028) GAN: 0.749 GAN_Feat: 12.458 VGG: 11.256 D_Fake: 0.931 D_real: 0.357 \n",
            "End of epoch 24 / 50 \t Time Taken: 18 sec\n",
            "End of epoch 25 / 50 \t Time Taken: 18 sec\n",
            "End of epoch 26 / 50 \t Time Taken: 18 sec\n",
            "End of epoch 27 / 50 \t Time Taken: 18 sec\n",
            "End of epoch 28 / 50 \t Time Taken: 18 sec\n",
            "End of epoch 29 / 50 \t Time Taken: 18 sec\n",
            "End of epoch 30 / 50 \t Time Taken: 18 sec\n",
            "Saved current iteration count at /content/gdrive/MyDrive/Intro_to_Deep_Learning/Final_project/first_try/iter.txt.\n",
            "saving the model at the end of epoch 30, iters 390\n",
            "(epoch: 31, iters: 10, time: 1.389) GAN: 1.443 GAN_Feat: 12.027 VGG: 10.234 D_Fake: 0.412 D_real: 0.394 \n",
            "End of epoch 31 / 50 \t Time Taken: 18 sec\n",
            "End of epoch 32 / 50 \t Time Taken: 18 sec\n",
            "End of epoch 33 / 50 \t Time Taken: 18 sec\n",
            "End of epoch 34 / 50 \t Time Taken: 18 sec\n",
            "End of epoch 35 / 50 \t Time Taken: 18 sec\n",
            "End of epoch 36 / 50 \t Time Taken: 18 sec\n",
            "End of epoch 37 / 50 \t Time Taken: 18 sec\n",
            "End of epoch 38 / 50 \t Time Taken: 18 sec\n",
            "(epoch: 39, iters: 6, time: 1.389) GAN: -1.318 GAN_Feat: 6.663 VGG: 8.664 D_Fake: 2.205 D_real: 0.126 \n",
            "End of epoch 39 / 50 \t Time Taken: 18 sec\n",
            "End of epoch 40 / 50 \t Time Taken: 18 sec\n",
            "Saved current iteration count at /content/gdrive/MyDrive/Intro_to_Deep_Learning/Final_project/first_try/iter.txt.\n",
            "saving the model at the end of epoch 40, iters 520\n",
            "End of epoch 41 / 50 \t Time Taken: 18 sec\n",
            "End of epoch 42 / 50 \t Time Taken: 18 sec\n",
            "End of epoch 43 / 50 \t Time Taken: 18 sec\n",
            "End of epoch 44 / 50 \t Time Taken: 18 sec\n",
            "End of epoch 45 / 50 \t Time Taken: 18 sec\n",
            "End of epoch 46 / 50 \t Time Taken: 18 sec\n",
            "(epoch: 47, iters: 2, time: 1.413) GAN: 0.628 GAN_Feat: 9.390 VGG: 12.165 D_Fake: 0.779 D_real: 0.256 \n",
            "End of epoch 47 / 50 \t Time Taken: 18 sec\n",
            "End of epoch 48 / 50 \t Time Taken: 18 sec\n",
            "End of epoch 49 / 50 \t Time Taken: 18 sec\n",
            "End of epoch 50 / 50 \t Time Taken: 18 sec\n",
            "Saved current iteration count at /content/gdrive/MyDrive/Intro_to_Deep_Learning/Final_project/first_try/iter.txt.\n",
            "saving the model at the end of epoch 50, iters 650\n",
            "Training was successfully finished.\n"
          ],
          "name": "stdout"
        }
      ]
    },
    {
      "cell_type": "code",
      "metadata": {
        "id": "qpAargI8-K5-",
        "outputId": "900dbd14-f97a-45b9-dfa0-dc1b64745d11",
        "colab": {
          "base_uri": "https://localhost:8080/"
        }
      },
      "source": [
        "!python /content/gdrive/MyDrive/Intro_to_Deep_Learning/Final_project/test.py --name first_try --dataset_mode coco --dataroot /content/gdrive/MyDrive/Intro_to_Deep_Learning/Final_project/datasets/coco_stuff\n"
      ],
      "execution_count": 9,
      "outputs": [
        {
          "output_type": "stream",
          "text": [
            "----------------- Options ---------------\n",
            "             aspect_ratio: 1.0                           \n",
            "                batchSize: 1                             \n",
            "      cache_filelist_read: True                          \n",
            "     cache_filelist_write: True                          \n",
            "          checkpoints_dir: /content/gdrive/MyDrive/Intro_to_Deep_Learning/Final_project\n",
            "        coco_no_portraits: False                         \n",
            "   contain_dontcare_label: True                          \n",
            "                crop_size: 256                           \n",
            "                 dataroot: /content/gdrive/MyDrive/Intro_to_Deep_Learning/Final_project/datasets/coco_stuff\t[default: ./datasets/cityscapes/]\n",
            "             dataset_mode: coco                          \n",
            "          display_winsize: 256                           \n",
            "                  gpu_ids: 0                             \n",
            "                 how_many: inf                           \n",
            "                init_type: xavier                        \n",
            "            init_variance: 0.02                          \n",
            "                  isTrain: False                         \t[default: None]\n",
            "                 label_nc: 182                           \n",
            "       load_from_opt_file: False                         \n",
            "                load_size: 256                           \n",
            "         max_dataset_size: 9223372036854775807           \n",
            "                    model: pix2pix                       \n",
            "                 nThreads: 0                             \n",
            "                     name: first_try                     \t[default: label2coco]\n",
            "                      nef: 16                            \n",
            "                     netG: spade                         \n",
            "                      ngf: 64                            \n",
            "                  no_flip: True                          \n",
            "              no_instance: False                         \n",
            "         no_pairing_check: False                         \n",
            "                   norm_D: spectralinstance              \n",
            "                   norm_E: spectralinstance              \n",
            "                   norm_G: spectralspadesyncbatch3x3     \n",
            "    num_upsampling_layers: normal                        \n",
            "                output_nc: 3                             \n",
            "                    phase: test                          \n",
            "          preprocess_mode: resize_and_crop               \n",
            "              results_dir: ./results/                    \n",
            "           serial_batches: True                          \n",
            "                  use_vae: False                         \n",
            "              which_epoch: latest                        \n",
            "                    z_dim: 256                           \n",
            "----------------- End -------------------\n",
            "dataset [CocoDataset] of size 8 was created\n",
            "Network [SPADEGenerator] was created. Total number of parameters: 97.5 million. To see the architecture, do print(network).\n",
            "/usr/local/lib/python3.7/dist-packages/torchvision/transforms/transforms.py:258: UserWarning: Argument interpolation should be of type InterpolationMode instead of int. Please, use InterpolationMode enum.\n",
            "  \"Argument interpolation should be of type InterpolationMode instead of int. \"\n",
            "/usr/local/lib/python3.7/dist-packages/torch/nn/functional.py:1698: UserWarning: nn.functional.tanh is deprecated. Use torch.tanh instead.\n",
            "  warnings.warn(\"nn.functional.tanh is deprecated. Use torch.tanh instead.\")\n",
            "process image... /content/gdrive/MyDrive/Intro_to_Deep_Learning/Final_project/datasets/coco_stuff/val_img/000000000139.jpg\n",
            "process image... /content/gdrive/MyDrive/Intro_to_Deep_Learning/Final_project/datasets/coco_stuff/val_img/000000000785.jpg\n",
            "process image... /content/gdrive/MyDrive/Intro_to_Deep_Learning/Final_project/datasets/coco_stuff/val_img/000000001268.jpg\n",
            "process image... /content/gdrive/MyDrive/Intro_to_Deep_Learning/Final_project/datasets/coco_stuff/val_img/000000001490.jpg\n",
            "process image... /content/gdrive/MyDrive/Intro_to_Deep_Learning/Final_project/datasets/coco_stuff/val_img/000000001503.jpg\n",
            "process image... /content/gdrive/MyDrive/Intro_to_Deep_Learning/Final_project/datasets/coco_stuff/val_img/000000001584.jpg\n",
            "process image... /content/gdrive/MyDrive/Intro_to_Deep_Learning/Final_project/datasets/coco_stuff/val_img/000000001818.jpg\n",
            "process image... /content/gdrive/MyDrive/Intro_to_Deep_Learning/Final_project/datasets/coco_stuff/val_img/000000001993.jpg\n"
          ],
          "name": "stdout"
        }
      ]
    },
    {
      "cell_type": "code",
      "metadata": {
        "colab": {
          "base_uri": "https://localhost:8080/"
        },
        "id": "IYAM98Vem37d",
        "outputId": "b6c7cf49-f17f-49be-fdd4-7d9607f63910"
      },
      "source": [
        "# Eval\n",
        "opt=make_options()\n",
        "dataloader = data.create_dataloader(opt)\n",
        "\n",
        "model = Pix2PixModel(opt)\n",
        "model.eval()\n",
        "\n",
        "visualizer = Visualizer(opt)\n",
        "\n",
        "# create a webpage that summarizes the all results\n",
        "web_dir = os.path.join(opt.results_dir, opt.name,\n",
        "                       '%s_%s' % (opt.phase, opt.which_epoch))\n",
        "webpage = html.HTML(web_dir,\n",
        "                    'Experiment = %s, Phase = %s, Epoch = %s' %\n",
        "                    (opt.name, opt.phase, opt.which_epoch))\n",
        "\n",
        "# test\n",
        "for i, data_i in enumerate(dataloader):\n",
        "    if i * opt.batchSize >= opt.how_many:\n",
        "        break\n",
        "\n",
        "    generated = model(data_i, mode='inference')\n",
        "\n",
        "    img_path = data_i['path']\n",
        "    for b in range(generated.shape[0]):\n",
        "        print('process image... %s' % img_path[b])\n",
        "        visuals = OrderedDict([('input_label', data_i['label'][b]),\n",
        "                               ('synthesized_image', generated[b])])\n",
        "        visualizer.save_images(webpage, visuals, img_path[b:b + 1])\n",
        "\n",
        "webpage.save()"
      ],
      "execution_count": 11,
      "outputs": [
        {
          "output_type": "stream",
          "text": [
            "dataset [CocoDataset] of size 13 was created\n",
            "Network [SPADEGenerator] was created. Total number of parameters: 97.5 million. To see the architecture, do print(network).\n"
          ],
          "name": "stdout"
        },
        {
          "output_type": "stream",
          "text": [
            "/usr/local/lib/python3.7/dist-packages/torchvision/transforms/transforms.py:258: UserWarning: Argument interpolation should be of type InterpolationMode instead of int. Please, use InterpolationMode enum.\n",
            "  \"Argument interpolation should be of type InterpolationMode instead of int. \"\n",
            "/usr/local/lib/python3.7/dist-packages/torch/nn/functional.py:1698: UserWarning: nn.functional.tanh is deprecated. Use torch.tanh instead.\n",
            "  warnings.warn(\"nn.functional.tanh is deprecated. Use torch.tanh instead.\")\n"
          ],
          "name": "stderr"
        },
        {
          "output_type": "stream",
          "text": [
            "process image... /content/gdrive/MyDrive/Intro_to_Deep_Learning/Final_project/datasets/coco_stuff/train_img/000000500044.jpg\n",
            "process image... /content/gdrive/MyDrive/Intro_to_Deep_Learning/Final_project/datasets/coco_stuff/train_img/000000426773.jpg\n",
            "process image... /content/gdrive/MyDrive/Intro_to_Deep_Learning/Final_project/datasets/coco_stuff/train_img/000000350505.jpg\n",
            "process image... /content/gdrive/MyDrive/Intro_to_Deep_Learning/Final_project/datasets/coco_stuff/train_img/000000284465.jpg\n",
            "process image... /content/gdrive/MyDrive/Intro_to_Deep_Learning/Final_project/datasets/coco_stuff/train_img/000000029286.jpg\n",
            "process image... /content/gdrive/MyDrive/Intro_to_Deep_Learning/Final_project/datasets/coco_stuff/train_img/000000475177.jpg\n",
            "process image... /content/gdrive/MyDrive/Intro_to_Deep_Learning/Final_project/datasets/coco_stuff/train_img/000000371376.jpg\n",
            "process image... /content/gdrive/MyDrive/Intro_to_Deep_Learning/Final_project/datasets/coco_stuff/train_img/000000203744.jpg\n",
            "process image... /content/gdrive/MyDrive/Intro_to_Deep_Learning/Final_project/datasets/coco_stuff/train_img/000000138805.jpg\n",
            "process image... /content/gdrive/MyDrive/Intro_to_Deep_Learning/Final_project/datasets/coco_stuff/train_img/000000197384.jpg\n",
            "process image... /content/gdrive/MyDrive/Intro_to_Deep_Learning/Final_project/datasets/coco_stuff/train_img/000000017914.jpg\n",
            "process image... /content/gdrive/MyDrive/Intro_to_Deep_Learning/Final_project/datasets/coco_stuff/train_img/000000184101.jpg\n",
            "process image... /content/gdrive/MyDrive/Intro_to_Deep_Learning/Final_project/datasets/coco_stuff/train_img/000000580986.jpg\n"
          ],
          "name": "stdout"
        }
      ]
    }
  ]
}